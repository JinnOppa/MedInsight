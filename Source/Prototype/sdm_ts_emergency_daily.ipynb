{
 "cells": [
  {
   "cell_type": "code",
   "execution_count": 3,
   "metadata": {},
   "outputs": [],
   "source": [
    "import pandas as pd\n",
    "import numpy as np\n",
    "import matplotlib.pyplot as plt\n",
    "from sklearn.model_selection import GridSearchCV\n",
    "from xgboost import XGBRegressor\n",
    "from sklearn.ensemble import RandomForestRegressor\n",
    "from sklearn.metrics import mean_absolute_error, mean_squared_error, r2_score\n",
    "import joblib"
   ]
  },
  {
   "cell_type": "code",
   "execution_count": 4,
   "metadata": {},
   "outputs": [
    {
     "data": {
      "text/html": [
       "<div>\n",
       "<style scoped>\n",
       "    .dataframe tbody tr th:only-of-type {\n",
       "        vertical-align: middle;\n",
       "    }\n",
       "\n",
       "    .dataframe tbody tr th {\n",
       "        vertical-align: top;\n",
       "    }\n",
       "\n",
       "    .dataframe thead th {\n",
       "        text-align: right;\n",
       "    }\n",
       "</style>\n",
       "<table border=\"1\" class=\"dataframe\">\n",
       "  <thead>\n",
       "    <tr style=\"text-align: right;\">\n",
       "      <th></th>\n",
       "      <th>Date of Admission</th>\n",
       "      <th>Emergency</th>\n",
       "      <th>('Emergency', 'Female')</th>\n",
       "      <th>('Emergency', 'Male')</th>\n",
       "      <th>Emergency_Lag_1</th>\n",
       "      <th>Emergency_Lag_2</th>\n",
       "      <th>Emergency_Lag_3</th>\n",
       "      <th>month</th>\n",
       "      <th>day</th>\n",
       "      <th>year</th>\n",
       "      <th>quarter</th>\n",
       "      <th>dayofweek</th>\n",
       "      <th>dayofyear</th>\n",
       "    </tr>\n",
       "  </thead>\n",
       "  <tbody>\n",
       "    <tr>\n",
       "      <th>0</th>\n",
       "      <td>2019-05-11</td>\n",
       "      <td>5</td>\n",
       "      <td>3</td>\n",
       "      <td>2</td>\n",
       "      <td>1</td>\n",
       "      <td>9</td>\n",
       "      <td>14</td>\n",
       "      <td>5</td>\n",
       "      <td>11</td>\n",
       "      <td>2019</td>\n",
       "      <td>2</td>\n",
       "      <td>5</td>\n",
       "      <td>131</td>\n",
       "    </tr>\n",
       "    <tr>\n",
       "      <th>1</th>\n",
       "      <td>2019-05-12</td>\n",
       "      <td>10</td>\n",
       "      <td>7</td>\n",
       "      <td>3</td>\n",
       "      <td>5</td>\n",
       "      <td>1</td>\n",
       "      <td>9</td>\n",
       "      <td>5</td>\n",
       "      <td>12</td>\n",
       "      <td>2019</td>\n",
       "      <td>2</td>\n",
       "      <td>6</td>\n",
       "      <td>132</td>\n",
       "    </tr>\n",
       "    <tr>\n",
       "      <th>2</th>\n",
       "      <td>2019-05-13</td>\n",
       "      <td>9</td>\n",
       "      <td>5</td>\n",
       "      <td>4</td>\n",
       "      <td>10</td>\n",
       "      <td>5</td>\n",
       "      <td>1</td>\n",
       "      <td>5</td>\n",
       "      <td>13</td>\n",
       "      <td>2019</td>\n",
       "      <td>2</td>\n",
       "      <td>0</td>\n",
       "      <td>133</td>\n",
       "    </tr>\n",
       "    <tr>\n",
       "      <th>3</th>\n",
       "      <td>2019-05-14</td>\n",
       "      <td>13</td>\n",
       "      <td>6</td>\n",
       "      <td>7</td>\n",
       "      <td>9</td>\n",
       "      <td>10</td>\n",
       "      <td>5</td>\n",
       "      <td>5</td>\n",
       "      <td>14</td>\n",
       "      <td>2019</td>\n",
       "      <td>2</td>\n",
       "      <td>1</td>\n",
       "      <td>134</td>\n",
       "    </tr>\n",
       "    <tr>\n",
       "      <th>4</th>\n",
       "      <td>2019-05-15</td>\n",
       "      <td>15</td>\n",
       "      <td>8</td>\n",
       "      <td>7</td>\n",
       "      <td>13</td>\n",
       "      <td>9</td>\n",
       "      <td>10</td>\n",
       "      <td>5</td>\n",
       "      <td>15</td>\n",
       "      <td>2019</td>\n",
       "      <td>2</td>\n",
       "      <td>2</td>\n",
       "      <td>135</td>\n",
       "    </tr>\n",
       "  </tbody>\n",
       "</table>\n",
       "</div>"
      ],
      "text/plain": [
       "  Date of Admission  Emergency  ('Emergency', 'Female')  \\\n",
       "0        2019-05-11          5                        3   \n",
       "1        2019-05-12         10                        7   \n",
       "2        2019-05-13          9                        5   \n",
       "3        2019-05-14         13                        6   \n",
       "4        2019-05-15         15                        8   \n",
       "\n",
       "   ('Emergency', 'Male')  Emergency_Lag_1  Emergency_Lag_2  Emergency_Lag_3  \\\n",
       "0                      2                1                9               14   \n",
       "1                      3                5                1                9   \n",
       "2                      4               10                5                1   \n",
       "3                      7                9               10                5   \n",
       "4                      7               13                9               10   \n",
       "\n",
       "   month  day  year  quarter  dayofweek  dayofyear  \n",
       "0      5   11  2019        2          5        131  \n",
       "1      5   12  2019        2          6        132  \n",
       "2      5   13  2019        2          0        133  \n",
       "3      5   14  2019        2          1        134  \n",
       "4      5   15  2019        2          2        135  "
      ]
     },
     "execution_count": 4,
     "metadata": {},
     "output_type": "execute_result"
    }
   ],
   "source": [
    "path = \"C:\\\\Users\\\\Republic Of Gamers\\\\OneDrive\\\\Documents\\\\GitHub\\\\TSDN-BoyWithLuv\\\\Source\\\\Data\\\\sdm_ts_emergency_daily.csv\"\n",
    "df = pd.read_csv(path)\n",
    "df.head()"
   ]
  },
  {
   "cell_type": "code",
   "execution_count": 5,
   "metadata": {},
   "outputs": [],
   "source": [
    "df.set_index('Date of Admission', inplace=True)"
   ]
  },
  {
   "cell_type": "code",
   "execution_count": 6,
   "metadata": {},
   "outputs": [],
   "source": [
    "trainEmergencySize = int(len(df) * 0.7)\n",
    "trainEmergency, testEmergency= df[:trainEmergencySize], df[trainEmergencySize:]"
   ]
  },
  {
   "cell_type": "code",
   "execution_count": 7,
   "metadata": {},
   "outputs": [],
   "source": [
    "X_train = trainEmergency.drop(columns=['Emergency'])\n",
    "y_train = trainEmergency['Emergency']\n",
    "X_test = testEmergency.drop(columns=['Emergency'])\n",
    "y_test = testEmergency['Emergency']\n",
    "X_train.columns = X_train.columns.astype(str)\n",
    "X_test.columns = X_test.columns.astype(str)"
   ]
  },
  {
   "cell_type": "code",
   "execution_count": 8,
   "metadata": {},
   "outputs": [
    {
     "name": "stdout",
     "output_type": "stream",
     "text": [
      "Fitting 3 folds for each of 36 candidates, totalling 108 fits\n",
      "Best parameters found:  {'max_depth': 20, 'min_samples_split': 2, 'n_estimators': 100}\n"
     ]
    }
   ],
   "source": [
    "# Define the parameter grid\n",
    "param_grid = {\n",
    "    'n_estimators': [100, 200, 300],\n",
    "    'max_depth': [None, 10, 20, 30],\n",
    "    'min_samples_split': [2, 5, 10]\n",
    "}\n",
    "\n",
    "# Initialize the model\n",
    "rf = RandomForestRegressor()\n",
    "\n",
    "# Set up GridSearchCV\n",
    "grid_search = GridSearchCV(estimator=rf, param_grid=param_grid, cv=3, scoring='neg_mean_squared_error', n_jobs=-1, verbose=2)\n",
    "\n",
    "# Fit to the data\n",
    "grid_search.fit(X_train, y_train)\n",
    "\n",
    "# Best parameters\n",
    "print(\"Best parameters found: \", grid_search.best_params_)"
   ]
  },
  {
   "cell_type": "code",
   "execution_count": 9,
   "metadata": {},
   "outputs": [
    {
     "name": "stdout",
     "output_type": "stream",
     "text": [
      "[ 8.   13.12  2.98  6.9  14.06 15.95  8.    6.   17.1  13.11  3.08 10.\n",
      "  9.    9.   12.   13.    6.18  3.99 13.    8.   11.    7.   11.98  6.\n",
      " 16.02  9.02  5.89 10.99 11.   10.    9.06  6.   11.   12.01  8.01 14.\n",
      "  9.    9.   10.29  9.    8.    6.    2.93 15.67  8.    2.94  9.   17.48\n",
      " 10.02 10.    3.13  7.   10.   18.78  7.    8.   10.   16.11 10.02 11.01\n",
      " 12.01  6.    3.44 11.   15.76  6.   11.01 13.04 11.   10.46  9.    5.\n",
      " 14.18 11.03 11.   10.    6.    6.   10.   11.    7.   13.06 10.   10.01\n",
      " 16.88 12.   11.   13.   14.28  8.   13.1   8.   12.   11.04  6.98 13.\n",
      "  7.   16.05 11.   15.04 10.   15.04 10.02  9.    8.   12.   17.14  3.1\n",
      " 10.08  6.97  6.99 12.01 11.    6.   11.   13.02 10.    8.   13.1   6.\n",
      "  7.18  6.    2.95 11.   10.   11.   13.06 15.11  9.   11.99  8.   14.\n",
      " 10.    7.    9.   10.    8.   13.    7.   17.36 15.87  9.   16.06 16.5\n",
      "  8.    4.83 12.    9.01 10.   10.   15.03 12.97 19.59 18.38  5.25 15.2\n",
      "  6.    9.   15.74  8.   13.    6.   11.    5.41  6.99  6.99  6.    9.\n",
      " 10.    9.   15.03  6.   11.    8.    8.   15.22 10.21 17.57 10.   11.01\n",
      "  8.   13.03  6.    8.01 12.    7.6  15.65  6.    7.   14.95  8.97  9.\n",
      "  2.62 14.01  5.27 11.   10.02 12.   14.06  8.    8.   16.58  8.    8.99\n",
      " 13.    6.   15.55  9.   12.   13.   15.12  8.    8.    9.    4.98 12.9\n",
      " 14.07 14.75 11.    9.    3.02  7.09 14.11  3.96 11.   10.   13.02 11.\n",
      " 10.   12.    7.   12.    9.    8.   12.    8.    8.01 11.    9.   14.\n",
      "  5.    9.    6.    7.18  9.   15.   10.   12.03 11.   13.74 11.   10.\n",
      "  6.   13.11  9.   10.   15.8   4.95  8.    9.62  4.91 10.    9.    6.\n",
      " 10.    7.67 11.02  7.    9.    8.   10.    7.68  7.   13.   11.    9.\n",
      " 15.17 12.92 10.01 16.34  7.    7.    6.    7.    6.94 10.    3.06 11.99\n",
      " 11.   11.01  6.   12.67  8.69  7.    9.95 14.   11.   16.01  7.    9.01\n",
      "  9.   11.01 11.   12.42  8.    8.    5.97  8.   11.   10.    9.    5.\n",
      " 14.09  2.44 14.01  9.79  8.01 11.    9.    8.8  12.   15.01  9.   15.21\n",
      "  8.75 10.99 11.   14.24  9.    9.   14.    9.   12.   12.   19.92  5.95\n",
      "  4.96 17.4   9.    3.95 12.   11.   18.    7.    9.   10.    3.91 11.\n",
      "  8.   11.04  6.97  7.   13.    4.98  9.    4.19 10.    5.88 16.42 12.01\n",
      " 10.   13.   11.   13.03 13.   13.    9.    4.98  9.   11.01 13.03  6.97\n",
      "  6.   13.08 13.02 11.   10.    6.   12.03 12.    8.   11.   11.    8.\n",
      "  7.    9.    9.   10.   11.03 11.   13.03 11.   15.04  7.    9.    8.\n",
      " 10.    9.    9.    8.   12.02 11.   11.    7.   14.01 10.    6.   12.02\n",
      " 17.29 11.   12.04 10.   10.01  3.12  4.94 10.   12.    4.12 13.1   8.\n",
      "  4.82  8.   11.02  6.03 12.93 10.   11.    6.    9.    6.   11.    8.\n",
      "  7.    5.94  6.    6.   15.82 14.82 15.15  9.   12.   13.   11.   10.\n",
      "  4.98  9.    5.4  10.    9.   11.89 12.   12.   10.   15.84 12.01 11.01\n",
      " 12.   10.   11.   12.    9.    9.    8.   11.   12.01  5.92  8.   11.01\n",
      " 12.32 12.01 13.    9.   12.01 11.    6.   10.    9.   15.78 12.04  6.99\n",
      "  6.    6.    8.    8.   11.    7.   14.03 13.02 12.96 10.45  6.    4.96\n",
      " 14.   15.87  5.   11.04 12.    8.   15.    3.12 10.16  8.    9.    6.\n",
      " 11.   11.   12.    3.06  8.    7.   11.    7.    7.12 10.02 13.   14.47\n",
      " 12.74 12.   18.53 10.   14.08 10.24  5.98 11.    2.28 10.   12.99 11.\n",
      " 12.   15.    8.    3.03 11.01 14.2  13.07 13.11 10.   10.   11.03 12.04\n",
      " 16.57  5.   12.   16.08  6.    8.    8.    9.  ]\n"
     ]
    }
   ],
   "source": [
    "# Extract the best parameters from the grid search\n",
    "best_params = grid_search.best_params_\n",
    "\n",
    "# Initialize the RandomForestRegressor with the best parameters\n",
    "best_rf = RandomForestRegressor(**best_params)\n",
    "\n",
    "# Fit the model to the full training data\n",
    "best_rf.fit(X_train, y_train)\n",
    "\n",
    "# Make predictions on the test set or future data\n",
    "y_pred = best_rf.predict(X_test)\n",
    "\n",
    "# Display predictions\n",
    "print(y_pred)"
   ]
  },
  {
   "cell_type": "code",
   "execution_count": 10,
   "metadata": {},
   "outputs": [
    {
     "name": "stdout",
     "output_type": "stream",
     "text": [
      "Root Mean Squared Error (RMSE): 0.27728973753124364\n",
      "Mean Absolute Error (MAE): 0.08147810218978095\n",
      "R-squared (R²): 0.9932774845666252\n"
     ]
    }
   ],
   "source": [
    "# Calculate RMSE\n",
    "rmse = np.sqrt(mean_squared_error(y_test, y_pred))\n",
    "\n",
    "# Calculate MAE\n",
    "mae = mean_absolute_error(y_test, y_pred)\n",
    "\n",
    "# Calculate R-squared\n",
    "r2 = r2_score(y_test, y_pred)\n",
    "\n",
    "# Display the metrics\n",
    "print(\"Root Mean Squared Error (RMSE):\", rmse)\n",
    "print(\"Mean Absolute Error (MAE):\", mae)\n",
    "print(\"R-squared (R²):\", r2)"
   ]
  },
  {
   "cell_type": "code",
   "execution_count": 11,
   "metadata": {},
   "outputs": [
    {
     "name": "stdout",
     "output_type": "stream",
     "text": [
      "Fitting 3 folds for each of 36 candidates, totalling 108 fits\n",
      "Best parameters found:  {'max_depth': None, 'min_samples_split': 2, 'n_estimators': 200}\n"
     ]
    },
    {
     "name": "stderr",
     "output_type": "stream",
     "text": [
      "c:\\Users\\Republic Of Gamers\\AppData\\Local\\Programs\\Python\\Python39\\lib\\site-packages\\xgboost\\core.py:160: UserWarning: [00:36:25] WARNING: C:\\buildkite-agent\\builds\\buildkite-windows-cpu-autoscaling-group-i-0b3782d1791676daf-1\\xgboost\\xgboost-ci-windows\\src\\learner.cc:742: \n",
      "Parameters: { \"min_samples_split\" } are not used.\n",
      "\n",
      "  warnings.warn(smsg, UserWarning)\n"
     ]
    }
   ],
   "source": [
    "param_grid = {\n",
    "    'n_estimators': [100, 200, 300],\n",
    "    'max_depth': [None, 10, 20, 30],\n",
    "    'min_samples_split': [2, 5, 10]\n",
    "}\n",
    "xgb_model = XGBRegressor()\n",
    "\n",
    "# Set up GridSearchCV\n",
    "grid_search = GridSearchCV(estimator=xgb_model, param_grid=param_grid, cv=3, scoring='neg_mean_squared_error', n_jobs=-1, verbose=2)\n",
    "\n",
    "# Fit to the data\n",
    "grid_search.fit(X_train, y_train)\n",
    "\n",
    "# Best parameters\n",
    "print(\"Best parameters found: \", grid_search.best_params_)"
   ]
  },
  {
   "cell_type": "code",
   "execution_count": 12,
   "metadata": {},
   "outputs": [
    {
     "name": "stderr",
     "output_type": "stream",
     "text": [
      "c:\\Users\\Republic Of Gamers\\AppData\\Local\\Programs\\Python\\Python39\\lib\\site-packages\\xgboost\\core.py:160: UserWarning: [00:36:25] WARNING: C:\\buildkite-agent\\builds\\buildkite-windows-cpu-autoscaling-group-i-0b3782d1791676daf-1\\xgboost\\xgboost-ci-windows\\src\\learner.cc:742: \n",
      "Parameters: { \"min_samples_split\" } are not used.\n",
      "\n",
      "  warnings.warn(smsg, UserWarning)\n"
     ]
    },
    {
     "name": "stdout",
     "output_type": "stream",
     "text": [
      "Predictions: [ 8.009224  12.975933   3.0564647  6.9508557 13.994575  15.918755\n",
      "  8.010642   6.0288305 17.167965  12.966652   3.0383747 10.026951\n",
      "  9.032791   8.980673  11.990371  13.034095   5.956457   4.0017233\n",
      " 13.010713   7.990728  10.957498   6.9530573 11.976558   6.002575\n",
      " 15.979272   9.038086   6.035554  11.044624  10.96995    9.987145\n",
      "  8.995973   6.004911  11.025068  12.006584   7.9899807 13.97628\n",
      "  9.027761   9.078722  10.6945095  9.051125   8.001822   5.999131\n",
      "  3.0290437 15.44402    7.992163   3.0477788  9.011635  16.936642\n",
      "  9.914825  10.022533   3.033086   6.965732   9.998768  19.069191\n",
      "  6.9969935  7.991158   9.971505  16.380232  10.024043  11.046279\n",
      " 11.997208   6.047348   3.0219884 11.013279  15.813795   6.0098505\n",
      " 11.02738   12.926716  11.012308   9.96611    8.990223   4.992188\n",
      " 14.031143  11.045948  11.006215   9.996945   6.0234494  6.002029\n",
      " 10.035821  10.926953   6.959527  12.948402  10.016672   9.904174\n",
      " 17.23644   11.982842  11.042905  13.00598   14.188163   8.037683\n",
      " 13.129159   8.005374  11.991979  11.034475   7.0187926 12.977334\n",
      "  6.940139  16.007854  10.979518  15.089732   9.989093  15.103516\n",
      "  9.925496   9.051734   8.033506  12.043072  16.331259   3.0295088\n",
      " 10.437673   7.024903   6.9488153 12.019803  11.020298   6.014886\n",
      " 10.99708   12.953814  10.020158   8.020656  13.097846   6.0050797\n",
      "  6.9843445  5.999932   2.6657145 10.996279  10.037322  11.04582\n",
      " 12.9444    15.110129   9.003814  11.903362   8.005665  13.938027\n",
      " 10.01631    6.9680357  8.9737425 10.040962   8.0033245 13.001534\n",
      "  6.966887  17.682184  15.841147   9.006197  16.437046  16.067759\n",
      "  8.023469   5.024832  12.063266   9.027492   9.996267  10.028624\n",
      " 15.015632  12.875847  20.546917  18.140234   4.99015   15.146818\n",
      "  6.0223     8.998916  15.840621   8.040192  13.019454   5.995068\n",
      " 11.000861   4.977159   6.9240584  6.9332066  6.052911   8.987149\n",
      " 10.018476   9.005945  15.04129    6.0158496 10.984621   8.012886\n",
      "  8.003432  15.119676  10.596261  18.01347    9.9716215 11.042384\n",
      "  8.009295  12.991649   5.9940658  7.9826097 12.0390005  7.8843756\n",
      " 15.86801    6.0332527  6.986691  14.979428   8.965803   8.983255\n",
      "  2.437193  13.972845   4.97932   11.020559   9.9640045 11.987148\n",
      " 13.982941   8.032547   7.996634  17.776001   8.0035925  9.077415\n",
      " 12.979952   6.006311  15.8609915  8.998803  11.990844  13.040622\n",
      " 15.044638   8.015966   8.011682   9.012076   5.0172725 12.974949\n",
      " 14.002337  14.998992  11.004554   9.072028   3.0243592  6.9612527\n",
      " 13.920204   4.015357  10.957797   9.9856415 12.965134  10.988114\n",
      "  9.999404  12.004499   6.983799  11.983391   8.984112   8.013946\n",
      " 11.965383   7.99654    8.009462  10.981404   9.004779  13.915268\n",
      "  4.9994464  8.995207   6.0147295  6.9396777  9.000388  15.062666\n",
      " 10.008312  12.0404215 10.960828  13.973346  10.985143  10.00241\n",
      "  6.0127068 12.925141   9.0024805 10.021718  15.888858   5.042228\n",
      "  8.008688  10.117025   4.9925637  9.981607   9.01272    5.999131\n",
      "  9.988644   7.8569474 11.083642   6.957129   8.973498   8.025466\n",
      "  9.983282   7.875188   7.0015306 12.976524  11.027483   9.0340185\n",
      " 15.114323  12.959112   9.933928  18.333458   7.008969   6.9493465\n",
      "  6.011447   6.9806066  7.014129  10.019267   3.035931  11.964068\n",
      " 10.997142  11.039056   6.0331264 12.081672   8.996992   6.979015\n",
      "  9.955091  13.992208  11.032913  15.970803   6.9529343  9.049178\n",
      "  9.033755  11.080652  11.026235  12.195786   7.9997263  8.0198555\n",
      "  6.04559    8.02318   10.998585  10.001886   9.012258   5.003377\n",
      " 14.101152   1.9809067 13.972922   9.933616   7.9817996 11.008056\n",
      "  8.996083   8.974647  12.035728  15.057579   8.973971  15.15426\n",
      "  8.975686  11.054665  10.968141  14.120531   9.02383    9.051998\n",
      " 13.965047   9.0116625 11.998096  12.070201  20.126575   5.9920287\n",
      "  4.9918165 16.804768   9.006361   3.9924119 12.034479  10.998624\n",
      " 18.719254   6.941873   8.987602   9.909165   3.9617395 10.990254\n",
      "  7.989377  10.954079   7.0728903  7.023479  12.999986   5.0080266\n",
      "  8.9852915  3.8839111 10.003301   5.967635  16.117321  11.989156\n",
      "  9.979329  13.023218  10.954771  12.977917  13.031944  12.91981\n",
      "  8.998811   5.016211   8.975633  11.015824  12.935662   7.0051284\n",
      "  6.0210342 13.126396  12.9663925 11.018095   9.975912   6.028147\n",
      " 12.023347  12.044396   8.023291  11.022721  10.9393215  8.022926\n",
      "  6.9562726  8.973221   9.010313  10.027019  11.0144205 10.977196\n",
      " 12.962799  10.931452  15.049402   6.941743   9.002748   8.024984\n",
      "  9.999794   8.982437   8.977374   8.003354  12.025246  10.989264\n",
      " 11.044321   6.9781346 14.251522   9.988013   6.018499  12.032737\n",
      " 17.118921  11.034976  12.052586  10.017002   9.929836   3.0620327\n",
      "  4.981549   9.944295  12.013707   3.9695916 12.926309   7.9785447\n",
      "  5.013168   7.994667  11.026919   6.0470653 11.825427  10.0349455\n",
      " 11.032703   6.0146947  9.020021   6.0291677 10.991202   7.9855685\n",
      "  6.949949   6.091905   6.0137525  6.0205984 15.380277  14.980288\n",
      " 15.078979   8.969789  11.952738  12.99599   10.986729  10.000557\n",
      "  5.020361   9.036544   5.0180125 10.017808   9.001661  11.919128\n",
      " 12.01889   12.019866  10.03265   15.894039  12.007869  11.07309\n",
      " 12.041157  10.028449  10.988038  11.984599   9.065067   8.970547\n",
      "  8.010253  10.953583  12.031996   6.126816   8.005611  11.06201\n",
      " 12.124092  11.965259  13.031145   8.97764   12.019716  10.932591\n",
      "  6.0262847  9.991031   9.050808  15.884856  12.009399   6.925344\n",
      "  6.0132155  6.01069    7.9983416  8.018177  10.988969   6.9519463\n",
      " 13.982273  12.924554  12.987957  10.70689    5.9941697  4.99593\n",
      " 13.95716   16.060581   5.0055137 11.03301   11.97744    8.002367\n",
      " 15.015655   3.00866    9.903299   8.03361    9.026689   6.037844\n",
      " 11.006299  11.001461  11.988814   3.0140193  7.9874463  6.9687076\n",
      " 11.016879   6.9815974  6.9825163  9.938792  12.904883  16.725777\n",
      " 12.215189  12.001102  18.831238   9.996039  14.060476  10.622029\n",
      "  5.990464  11.01416    1.7332284 10.034202  12.975854  10.916354\n",
      " 12.000611  15.013227   8.019741   3.0434668 11.096293  14.078227\n",
      " 12.989042  12.930386   9.9818535  9.989826  10.989565  12.01156\n",
      " 16.188309   5.0123725 12.042294  15.877083   6.0131087  7.996263\n",
      "  8.008731   9.0235405]\n"
     ]
    }
   ],
   "source": [
    "# Extract the best parameters from the grid search\n",
    "best_params = grid_search.best_params_\n",
    "\n",
    "# Initialize the XGBRegressor with the best parameters\n",
    "best_xgb = XGBRegressor(**best_params)\n",
    "\n",
    "# Fit the model to the full training data\n",
    "best_xgb.fit(X_train, y_train)\n",
    "\n",
    "# Make predictions on the test set or future data\n",
    "y_pred = best_xgb.predict(X_test)\n",
    "\n",
    "# Display predictions\n",
    "print(\"Predictions:\", y_pred)"
   ]
  },
  {
   "cell_type": "code",
   "execution_count": 13,
   "metadata": {},
   "outputs": [
    {
     "name": "stdout",
     "output_type": "stream",
     "text": [
      "Root Mean Squared Error (RMSE): 0.16359646145062273\n",
      "Mean Absolute Error (MAE): 0.06297126173102943\n",
      "R-squared (R²): 0.9976600408554077\n"
     ]
    }
   ],
   "source": [
    "# Calculate RMSE\n",
    "rmse = np.sqrt(mean_squared_error(y_test, y_pred))\n",
    "\n",
    "# Calculate MAE\n",
    "mae = mean_absolute_error(y_test, y_pred)\n",
    "\n",
    "# Calculate R-squared\n",
    "r2 = r2_score(y_test, y_pred)\n",
    "\n",
    "# Display the metrics\n",
    "print(\"Root Mean Squared Error (RMSE):\", rmse)\n",
    "print(\"Mean Absolute Error (MAE):\", mae)\n",
    "print(\"R-squared (R²):\", r2)"
   ]
  },
  {
   "cell_type": "code",
   "execution_count": 14,
   "metadata": {},
   "outputs": [
    {
     "data": {
      "text/plain": [
       "['xgb_emergency.pkl']"
      ]
     },
     "execution_count": 14,
     "metadata": {},
     "output_type": "execute_result"
    }
   ],
   "source": [
    "joblib.dump(best_xgb, 'xgb_emergency.pkl')"
   ]
  }
 ],
 "metadata": {
  "kernelspec": {
   "display_name": "Python 3",
   "language": "python",
   "name": "python3"
  },
  "language_info": {
   "codemirror_mode": {
    "name": "ipython",
    "version": 3
   },
   "file_extension": ".py",
   "mimetype": "text/x-python",
   "name": "python",
   "nbconvert_exporter": "python",
   "pygments_lexer": "ipython3",
   "version": "3.9.6"
  }
 },
 "nbformat": 4,
 "nbformat_minor": 2
}
