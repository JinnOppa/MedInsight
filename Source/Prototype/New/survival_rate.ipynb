{
 "cells": [
  {
   "cell_type": "code",
   "execution_count": 1,
   "metadata": {},
   "outputs": [],
   "source": [
    "import pandas as pd\n",
    "import numpy as np\n",
    "from sklearn.model_selection import train_test_split\n",
    "from imblearn.under_sampling import RandomUnderSampler\n",
    "from xgboost import XGBClassifier\n",
    "from sklearn.ensemble import RandomForestClassifier\n",
    "from sklearn.model_selection import GridSearchCV\n",
    "from sklearn.metrics import classification_report, confusion_matrix, roc_auc_score\n",
    "import joblib"
   ]
  },
  {
   "cell_type": "code",
   "execution_count": 2,
   "metadata": {},
   "outputs": [],
   "source": [
    "try:\n",
    "    # Try loading the file from your laptop path\n",
    "    df = pd.read_csv('C:\\\\Users\\\\Republic Of Gamers\\\\OneDrive\\\\Documents\\\\GitHub\\\\TSDN-BoyWithLuv\\\\Source\\\\Prototype\\\\New\\\\front_service_1.csv')\n",
    "except FileNotFoundError:\n",
    "    # If the file is not found, try loading from the PC path\n",
    "    df = pd.read_csv('C:\\\\Users\\\\Republic Of Gamers\\\\OneDrive\\\\Documents\\\\GitHub\\\\TSDN-BoyWithLuv\\\\Source\\\\Prototype\\\\New\\\\front_service_1.csv')"
   ]
  },
  {
   "cell_type": "code",
   "execution_count": 3,
   "metadata": {},
   "outputs": [
    {
     "data": {
      "text/html": [
       "<div>\n",
       "<style scoped>\n",
       "    .dataframe tbody tr th:only-of-type {\n",
       "        vertical-align: middle;\n",
       "    }\n",
       "\n",
       "    .dataframe tbody tr th {\n",
       "        vertical-align: top;\n",
       "    }\n",
       "\n",
       "    .dataframe thead th {\n",
       "        text-align: right;\n",
       "    }\n",
       "</style>\n",
       "<table border=\"1\" class=\"dataframe\">\n",
       "  <thead>\n",
       "    <tr style=\"text-align: right;\">\n",
       "      <th></th>\n",
       "      <th>death</th>\n",
       "      <th>hospdead</th>\n",
       "      <th>sfdm2</th>\n",
       "      <th>age</th>\n",
       "      <th>sex</th>\n",
       "      <th>dzgroup</th>\n",
       "      <th>dzclass</th>\n",
       "      <th>num.co</th>\n",
       "      <th>edu</th>\n",
       "      <th>income</th>\n",
       "      <th>...</th>\n",
       "      <th>bili</th>\n",
       "      <th>crea</th>\n",
       "      <th>sod</th>\n",
       "      <th>ph</th>\n",
       "      <th>glucose</th>\n",
       "      <th>bun</th>\n",
       "      <th>urine</th>\n",
       "      <th>adlp</th>\n",
       "      <th>adls</th>\n",
       "      <th>adlsc</th>\n",
       "    </tr>\n",
       "  </thead>\n",
       "  <tbody>\n",
       "    <tr>\n",
       "      <th>0</th>\n",
       "      <td>0</td>\n",
       "      <td>0</td>\n",
       "      <td>NaN</td>\n",
       "      <td>62.84998</td>\n",
       "      <td>male</td>\n",
       "      <td>Lung Cancer</td>\n",
       "      <td>Cancer</td>\n",
       "      <td>0</td>\n",
       "      <td>11.0</td>\n",
       "      <td>$11-$25k</td>\n",
       "      <td>...</td>\n",
       "      <td>0.199982</td>\n",
       "      <td>1.199951</td>\n",
       "      <td>141.0</td>\n",
       "      <td>7.459961</td>\n",
       "      <td>NaN</td>\n",
       "      <td>NaN</td>\n",
       "      <td>NaN</td>\n",
       "      <td>7.0</td>\n",
       "      <td>7.0</td>\n",
       "      <td>7.0</td>\n",
       "    </tr>\n",
       "    <tr>\n",
       "      <th>1</th>\n",
       "      <td>1</td>\n",
       "      <td>1</td>\n",
       "      <td>&lt;2 mo. follow-up</td>\n",
       "      <td>60.33899</td>\n",
       "      <td>female</td>\n",
       "      <td>Cirrhosis</td>\n",
       "      <td>COPD/CHF/Cirrhosis</td>\n",
       "      <td>2</td>\n",
       "      <td>12.0</td>\n",
       "      <td>$11-$25k</td>\n",
       "      <td>...</td>\n",
       "      <td>NaN</td>\n",
       "      <td>5.500000</td>\n",
       "      <td>132.0</td>\n",
       "      <td>7.250000</td>\n",
       "      <td>NaN</td>\n",
       "      <td>NaN</td>\n",
       "      <td>NaN</td>\n",
       "      <td>NaN</td>\n",
       "      <td>1.0</td>\n",
       "      <td>1.0</td>\n",
       "    </tr>\n",
       "    <tr>\n",
       "      <th>2</th>\n",
       "      <td>1</td>\n",
       "      <td>0</td>\n",
       "      <td>&lt;2 mo. follow-up</td>\n",
       "      <td>52.74698</td>\n",
       "      <td>female</td>\n",
       "      <td>Cirrhosis</td>\n",
       "      <td>COPD/CHF/Cirrhosis</td>\n",
       "      <td>2</td>\n",
       "      <td>12.0</td>\n",
       "      <td>under $11k</td>\n",
       "      <td>...</td>\n",
       "      <td>2.199707</td>\n",
       "      <td>2.000000</td>\n",
       "      <td>134.0</td>\n",
       "      <td>7.459961</td>\n",
       "      <td>NaN</td>\n",
       "      <td>NaN</td>\n",
       "      <td>NaN</td>\n",
       "      <td>1.0</td>\n",
       "      <td>0.0</td>\n",
       "      <td>0.0</td>\n",
       "    </tr>\n",
       "    <tr>\n",
       "      <th>3</th>\n",
       "      <td>1</td>\n",
       "      <td>0</td>\n",
       "      <td>no(M2 and SIP pres)</td>\n",
       "      <td>42.38498</td>\n",
       "      <td>female</td>\n",
       "      <td>Lung Cancer</td>\n",
       "      <td>Cancer</td>\n",
       "      <td>2</td>\n",
       "      <td>11.0</td>\n",
       "      <td>under $11k</td>\n",
       "      <td>...</td>\n",
       "      <td>NaN</td>\n",
       "      <td>0.799927</td>\n",
       "      <td>139.0</td>\n",
       "      <td>NaN</td>\n",
       "      <td>NaN</td>\n",
       "      <td>NaN</td>\n",
       "      <td>NaN</td>\n",
       "      <td>0.0</td>\n",
       "      <td>0.0</td>\n",
       "      <td>0.0</td>\n",
       "    </tr>\n",
       "    <tr>\n",
       "      <th>4</th>\n",
       "      <td>0</td>\n",
       "      <td>0</td>\n",
       "      <td>no(M2 and SIP pres)</td>\n",
       "      <td>79.88495</td>\n",
       "      <td>female</td>\n",
       "      <td>ARF/MOSF w/Sepsis</td>\n",
       "      <td>ARF/MOSF</td>\n",
       "      <td>1</td>\n",
       "      <td>NaN</td>\n",
       "      <td>NaN</td>\n",
       "      <td>...</td>\n",
       "      <td>NaN</td>\n",
       "      <td>0.799927</td>\n",
       "      <td>143.0</td>\n",
       "      <td>7.509766</td>\n",
       "      <td>NaN</td>\n",
       "      <td>NaN</td>\n",
       "      <td>NaN</td>\n",
       "      <td>NaN</td>\n",
       "      <td>2.0</td>\n",
       "      <td>2.0</td>\n",
       "    </tr>\n",
       "  </tbody>\n",
       "</table>\n",
       "<p>5 rows × 45 columns</p>\n",
       "</div>"
      ],
      "text/plain": [
       "   death  hospdead                sfdm2       age     sex            dzgroup  \\\n",
       "0      0         0                  NaN  62.84998    male        Lung Cancer   \n",
       "1      1         1     <2 mo. follow-up  60.33899  female          Cirrhosis   \n",
       "2      1         0     <2 mo. follow-up  52.74698  female          Cirrhosis   \n",
       "3      1         0  no(M2 and SIP pres)  42.38498  female        Lung Cancer   \n",
       "4      0         0  no(M2 and SIP pres)  79.88495  female  ARF/MOSF w/Sepsis   \n",
       "\n",
       "              dzclass  num.co   edu      income  ...      bili      crea  \\\n",
       "0              Cancer       0  11.0    $11-$25k  ...  0.199982  1.199951   \n",
       "1  COPD/CHF/Cirrhosis       2  12.0    $11-$25k  ...       NaN  5.500000   \n",
       "2  COPD/CHF/Cirrhosis       2  12.0  under $11k  ...  2.199707  2.000000   \n",
       "3              Cancer       2  11.0  under $11k  ...       NaN  0.799927   \n",
       "4            ARF/MOSF       1   NaN         NaN  ...       NaN  0.799927   \n",
       "\n",
       "     sod        ph  glucose bun  urine  adlp  adls  adlsc  \n",
       "0  141.0  7.459961      NaN NaN    NaN   7.0   7.0    7.0  \n",
       "1  132.0  7.250000      NaN NaN    NaN   NaN   1.0    1.0  \n",
       "2  134.0  7.459961      NaN NaN    NaN   1.0   0.0    0.0  \n",
       "3  139.0       NaN      NaN NaN    NaN   0.0   0.0    0.0  \n",
       "4  143.0  7.509766      NaN NaN    NaN   NaN   2.0    2.0  \n",
       "\n",
       "[5 rows x 45 columns]"
      ]
     },
     "execution_count": 3,
     "metadata": {},
     "output_type": "execute_result"
    }
   ],
   "source": [
    "df.head()"
   ]
  },
  {
   "cell_type": "code",
   "execution_count": 4,
   "metadata": {},
   "outputs": [
    {
     "name": "stdout",
     "output_type": "stream",
     "text": [
      "<class 'pandas.core.frame.DataFrame'>\n",
      "RangeIndex: 9105 entries, 0 to 9104\n",
      "Data columns (total 45 columns):\n",
      " #   Column    Non-Null Count  Dtype  \n",
      "---  ------    --------------  -----  \n",
      " 0   death     9105 non-null   int64  \n",
      " 1   hospdead  9105 non-null   int64  \n",
      " 2   sfdm2     7705 non-null   object \n",
      " 3   age       9105 non-null   float64\n",
      " 4   sex       9105 non-null   object \n",
      " 5   dzgroup   9105 non-null   object \n",
      " 6   dzclass   9105 non-null   object \n",
      " 7   num.co    9105 non-null   int64  \n",
      " 8   edu       7471 non-null   float64\n",
      " 9   income    6123 non-null   object \n",
      " 10  scoma     9104 non-null   float64\n",
      " 11  charges   8933 non-null   float64\n",
      " 12  totcst    8217 non-null   float64\n",
      " 13  totmcst   5630 non-null   float64\n",
      " 14  avtisst   9023 non-null   float64\n",
      " 15  race      9063 non-null   object \n",
      " 16  sps       9104 non-null   float64\n",
      " 17  aps       9104 non-null   float64\n",
      " 18  surv2m    9104 non-null   float64\n",
      " 19  surv6m    9104 non-null   float64\n",
      " 20  hday      9105 non-null   int64  \n",
      " 21  diabetes  9105 non-null   int64  \n",
      " 22  dementia  9105 non-null   int64  \n",
      " 23  ca        9105 non-null   object \n",
      " 24  prg2m     7456 non-null   float64\n",
      " 25  prg6m     7472 non-null   float64\n",
      " 26  dnr       9075 non-null   object \n",
      " 27  dnrday    9075 non-null   float64\n",
      " 28  meanbp    9104 non-null   float64\n",
      " 29  wblc      8893 non-null   float64\n",
      " 30  hrt       9104 non-null   float64\n",
      " 31  resp      9104 non-null   float64\n",
      " 32  temp      9104 non-null   float64\n",
      " 33  pafi      6780 non-null   float64\n",
      " 34  alb       5733 non-null   float64\n",
      " 35  bili      6504 non-null   float64\n",
      " 36  crea      9038 non-null   float64\n",
      " 37  sod       9104 non-null   float64\n",
      " 38  ph        6821 non-null   float64\n",
      " 39  glucose   4605 non-null   float64\n",
      " 40  bun       4753 non-null   float64\n",
      " 41  urine     4243 non-null   float64\n",
      " 42  adlp      3464 non-null   float64\n",
      " 43  adls      6238 non-null   float64\n",
      " 44  adlsc     9105 non-null   float64\n",
      "dtypes: float64(31), int64(6), object(8)\n",
      "memory usage: 3.1+ MB\n"
     ]
    }
   ],
   "source": [
    "df.info()"
   ]
  },
  {
   "cell_type": "code",
   "execution_count": 5,
   "metadata": {},
   "outputs": [],
   "source": [
    "df.rename(columns={\n",
    "    'death':'death_outside_hospital',\n",
    "    'hospdead':'death_inside_hospital',\n",
    "    'age': 'age_years',\n",
    "    'sex': 'gender',\n",
    "    'dzgroup': 'disease_group',\n",
    "    'dzclass': 'disease_class',\n",
    "    'num.co': 'num_comorbidities',\n",
    "    'edu': 'education_years',\n",
    "    'income': 'income_range',\n",
    "    'scoma': 'coma_score',\n",
    "    'charges': 'hospital_charges',\n",
    "    'totcst': 'total_cost_to_charges_ratio',\n",
    "    'totmcst': 'total_micro_cost',\n",
    "    'avtisst': 'avg_tiss_score',\n",
    "    'race': 'race_ethnicity',\n",
    "    'sps': 'support_physiology_score',\n",
    "    'aps': 'apache_score',\n",
    "    'surv2m': 'survival_2_months',\n",
    "    'surv6m': 'survival_6_months',\n",
    "    'hday': 'hospital_day_of_study_entry',\n",
    "    'diabetes': 'has_diabetes',\n",
    "    'dementia': 'has_dementia',\n",
    "    'ca': 'cancer_status',\n",
    "    'prg2m': 'physician_survival_2_months',\n",
    "    'prg6m': 'physician_survival_6_months',\n",
    "    'dnr': 'do_not_resuscitate_status',\n",
    "    'dnrday': 'day_of_dnr_order',\n",
    "    'meanbp': 'mean_arterial_bp',\n",
    "    'wblc': 'white_blood_cell_count',\n",
    "    'hrt': 'heart_rate',\n",
    "    'resp': 'respiratory_rate',\n",
    "    'temp': 'body_temperature_celsius',\n",
    "    'pafi': 'pao2_fio2_ratio',\n",
    "    'alb': 'serum_albumin',\n",
    "    'bili': 'bilirubin_level',\n",
    "    'crea': 'serum_creatinine',\n",
    "    'sod': 'serum_sodium',\n",
    "    'ph': 'blood_ph',\n",
    "    'glucose': 'glucose_level',\n",
    "    'bun': 'blood_urea_nitrogen',\n",
    "    'urine': 'urine_output',\n",
    "    'adlp': 'adl_index_patient',\n",
    "    'adls': 'adl_index_surrogate',\n",
    "    'sfdm2': 'functional_disability_level',\n",
    "    'adlsc': 'calibrated_adl_index_surrogate'\n",
    "}, inplace=True)"
   ]
  },
  {
   "cell_type": "code",
   "execution_count": 6,
   "metadata": {},
   "outputs": [
    {
     "name": "stdout",
     "output_type": "stream",
     "text": [
      "<class 'pandas.core.frame.DataFrame'>\n",
      "RangeIndex: 9105 entries, 0 to 9104\n",
      "Data columns (total 45 columns):\n",
      " #   Column                          Non-Null Count  Dtype  \n",
      "---  ------                          --------------  -----  \n",
      " 0   death_outside_hospital          9105 non-null   int64  \n",
      " 1   death_inside_hospital           9105 non-null   int64  \n",
      " 2   functional_disability_level     7705 non-null   object \n",
      " 3   age_years                       9105 non-null   float64\n",
      " 4   gender                          9105 non-null   object \n",
      " 5   disease_group                   9105 non-null   object \n",
      " 6   disease_class                   9105 non-null   object \n",
      " 7   num_comorbidities               9105 non-null   int64  \n",
      " 8   education_years                 7471 non-null   float64\n",
      " 9   income_range                    6123 non-null   object \n",
      " 10  coma_score                      9104 non-null   float64\n",
      " 11  hospital_charges                8933 non-null   float64\n",
      " 12  total_cost_to_charges_ratio     8217 non-null   float64\n",
      " 13  total_micro_cost                5630 non-null   float64\n",
      " 14  avg_tiss_score                  9023 non-null   float64\n",
      " 15  race_ethnicity                  9063 non-null   object \n",
      " 16  support_physiology_score        9104 non-null   float64\n",
      " 17  apache_score                    9104 non-null   float64\n",
      " 18  survival_2_months               9104 non-null   float64\n",
      " 19  survival_6_months               9104 non-null   float64\n",
      " 20  hospital_day_of_study_entry     9105 non-null   int64  \n",
      " 21  has_diabetes                    9105 non-null   int64  \n",
      " 22  has_dementia                    9105 non-null   int64  \n",
      " 23  cancer_status                   9105 non-null   object \n",
      " 24  physician_survival_2_months     7456 non-null   float64\n",
      " 25  physician_survival_6_months     7472 non-null   float64\n",
      " 26  do_not_resuscitate_status       9075 non-null   object \n",
      " 27  day_of_dnr_order                9075 non-null   float64\n",
      " 28  mean_arterial_bp                9104 non-null   float64\n",
      " 29  white_blood_cell_count          8893 non-null   float64\n",
      " 30  heart_rate                      9104 non-null   float64\n",
      " 31  respiratory_rate                9104 non-null   float64\n",
      " 32  body_temperature_celsius        9104 non-null   float64\n",
      " 33  pao2_fio2_ratio                 6780 non-null   float64\n",
      " 34  serum_albumin                   5733 non-null   float64\n",
      " 35  bilirubin_level                 6504 non-null   float64\n",
      " 36  serum_creatinine                9038 non-null   float64\n",
      " 37  serum_sodium                    9104 non-null   float64\n",
      " 38  blood_ph                        6821 non-null   float64\n",
      " 39  glucose_level                   4605 non-null   float64\n",
      " 40  blood_urea_nitrogen             4753 non-null   float64\n",
      " 41  urine_output                    4243 non-null   float64\n",
      " 42  adl_index_patient               3464 non-null   float64\n",
      " 43  adl_index_surrogate             6238 non-null   float64\n",
      " 44  calibrated_adl_index_surrogate  9105 non-null   float64\n",
      "dtypes: float64(31), int64(6), object(8)\n",
      "memory usage: 3.1+ MB\n"
     ]
    }
   ],
   "source": [
    "df.info()"
   ]
  },
  {
   "cell_type": "code",
   "execution_count": 7,
   "metadata": {},
   "outputs": [],
   "source": [
    "functional_disability_level_mapping = {\n",
    "    '<2 mo. follow-up': 1, \n",
    "    'no(M2 and SIP pres)': 2, \n",
    "    'SIP>=30': 3,\n",
    "    'adl>=4 (>=5 if sur)': 4, \n",
    "    'Coma or Intub':5 \n",
    "}\n",
    "\n",
    "gender_mapping = {\n",
    "    'male': 1, \n",
    "    'female': 2\n",
    "}\n",
    "\n",
    "disease_group_mapping = {\n",
    "    'Lung Cancer': 1,\n",
    "    'Cirrhosis': 2,\n",
    "    'ARF/MOSF w/Sepsis': 3,\n",
    "    'Coma': 4,\n",
    "    'CHF': 5,\n",
    "    'Colon Cancer': 6,\n",
    "    'COPD': 7,\n",
    "    'MOSF w/Malig': 8\n",
    "}\n",
    "\n",
    "disease_class_mapping = {\n",
    "    'Cancer': 1,\n",
    "    'COPD/CHF/Cirrhosis': 2,\n",
    "    'ARF/MOSF': 3,\n",
    "    'Coma': 4\n",
    "}\n",
    "\n",
    "income_range_mapping = {\n",
    "    '$11-$25k': 1,\n",
    "    'under $11k': 2,\n",
    "    '$25-$50k': 3,\n",
    "    '>$50k': 4\n",
    "}\n",
    "\n",
    "race_ethnicity_mapping = {\n",
    "    'other': 1,\n",
    "    'white': 2,\n",
    "    'black': 3,\n",
    "    'hispanic': 4,\n",
    "    'asian': 5\n",
    "}\n",
    "\n",
    "cancer_status_mapping = {\n",
    "    'metastatic': 1,\n",
    "    'no': 0,\n",
    "    'yes': 2\n",
    "}\n",
    "\n",
    "dnr_status_mapping = {\n",
    "    'no dnr': 0,\n",
    "    'dnr after sadm': 1,\n",
    "    'dnr before sadm': 2\n",
    "}"
   ]
  },
  {
   "cell_type": "code",
   "execution_count": 8,
   "metadata": {},
   "outputs": [],
   "source": [
    "df['functional_disability_level'] = df['functional_disability_level'].map(functional_disability_level_mapping)\n",
    "df['gender'] = df['gender'].map(gender_mapping)\n",
    "df['disease_group'] = df['disease_group'].map(disease_group_mapping)\n",
    "df['disease_class'] = df['disease_class'].map(disease_class_mapping)\n",
    "df['income_range'] = df['income_range'].map(income_range_mapping)\n",
    "df['race_ethnicity'] = df['race_ethnicity'].map(race_ethnicity_mapping)\n",
    "df['cancer_status'] = df['cancer_status'].map(cancer_status_mapping)\n",
    "df['do_not_resuscitate_status'] = df['do_not_resuscitate_status'].map(dnr_status_mapping)"
   ]
  },
  {
   "cell_type": "code",
   "execution_count": 9,
   "metadata": {},
   "outputs": [],
   "source": [
    "df['age_years'] = df['age_years'].astype(int)"
   ]
  },
  {
   "cell_type": "code",
   "execution_count": 10,
   "metadata": {},
   "outputs": [],
   "source": [
    "survival_df = df.copy()"
   ]
  },
  {
   "cell_type": "code",
   "execution_count": 11,
   "metadata": {},
   "outputs": [],
   "source": [
    "survival_df['death'] = ((survival_df['death_outside_hospital'] == 1) | (survival_df['death_inside_hospital'] == 1)).astype(int)"
   ]
  },
  {
   "cell_type": "code",
   "execution_count": 12,
   "metadata": {},
   "outputs": [
    {
     "data": {
      "text/html": [
       "<div>\n",
       "<style scoped>\n",
       "    .dataframe tbody tr th:only-of-type {\n",
       "        vertical-align: middle;\n",
       "    }\n",
       "\n",
       "    .dataframe tbody tr th {\n",
       "        vertical-align: top;\n",
       "    }\n",
       "\n",
       "    .dataframe thead th {\n",
       "        text-align: right;\n",
       "    }\n",
       "</style>\n",
       "<table border=\"1\" class=\"dataframe\">\n",
       "  <thead>\n",
       "    <tr style=\"text-align: right;\">\n",
       "      <th></th>\n",
       "      <th>death</th>\n",
       "      <th>death_outside_hospital</th>\n",
       "      <th>death_inside_hospital</th>\n",
       "    </tr>\n",
       "  </thead>\n",
       "  <tbody>\n",
       "    <tr>\n",
       "      <th>0</th>\n",
       "      <td>0</td>\n",
       "      <td>0</td>\n",
       "      <td>0</td>\n",
       "    </tr>\n",
       "    <tr>\n",
       "      <th>1</th>\n",
       "      <td>1</td>\n",
       "      <td>1</td>\n",
       "      <td>1</td>\n",
       "    </tr>\n",
       "    <tr>\n",
       "      <th>2</th>\n",
       "      <td>1</td>\n",
       "      <td>1</td>\n",
       "      <td>0</td>\n",
       "    </tr>\n",
       "    <tr>\n",
       "      <th>3</th>\n",
       "      <td>1</td>\n",
       "      <td>1</td>\n",
       "      <td>0</td>\n",
       "    </tr>\n",
       "    <tr>\n",
       "      <th>4</th>\n",
       "      <td>0</td>\n",
       "      <td>0</td>\n",
       "      <td>0</td>\n",
       "    </tr>\n",
       "    <tr>\n",
       "      <th>...</th>\n",
       "      <td>...</td>\n",
       "      <td>...</td>\n",
       "      <td>...</td>\n",
       "    </tr>\n",
       "    <tr>\n",
       "      <th>9100</th>\n",
       "      <td>0</td>\n",
       "      <td>0</td>\n",
       "      <td>0</td>\n",
       "    </tr>\n",
       "    <tr>\n",
       "      <th>9101</th>\n",
       "      <td>0</td>\n",
       "      <td>0</td>\n",
       "      <td>0</td>\n",
       "    </tr>\n",
       "    <tr>\n",
       "      <th>9102</th>\n",
       "      <td>0</td>\n",
       "      <td>0</td>\n",
       "      <td>0</td>\n",
       "    </tr>\n",
       "    <tr>\n",
       "      <th>9103</th>\n",
       "      <td>1</td>\n",
       "      <td>1</td>\n",
       "      <td>1</td>\n",
       "    </tr>\n",
       "    <tr>\n",
       "      <th>9104</th>\n",
       "      <td>1</td>\n",
       "      <td>1</td>\n",
       "      <td>0</td>\n",
       "    </tr>\n",
       "  </tbody>\n",
       "</table>\n",
       "<p>9105 rows × 3 columns</p>\n",
       "</div>"
      ],
      "text/plain": [
       "      death  death_outside_hospital  death_inside_hospital\n",
       "0         0                       0                      0\n",
       "1         1                       1                      1\n",
       "2         1                       1                      0\n",
       "3         1                       1                      0\n",
       "4         0                       0                      0\n",
       "...     ...                     ...                    ...\n",
       "9100      0                       0                      0\n",
       "9101      0                       0                      0\n",
       "9102      0                       0                      0\n",
       "9103      1                       1                      1\n",
       "9104      1                       1                      0\n",
       "\n",
       "[9105 rows x 3 columns]"
      ]
     },
     "execution_count": 12,
     "metadata": {},
     "output_type": "execute_result"
    }
   ],
   "source": [
    "survival_df[['death','death_outside_hospital','death_inside_hospital']]"
   ]
  },
  {
   "cell_type": "code",
   "execution_count": 13,
   "metadata": {},
   "outputs": [],
   "source": [
    "features = survival_df[['death','age_years', 'gender', 'num_comorbidities', 'has_diabetes', 'has_dementia', 'cancer_status',\n",
    "    'functional_disability_level', 'coma_score', 'support_physiology_score', 'apache_score',\n",
    "    'mean_arterial_bp', 'heart_rate', 'respiratory_rate', 'body_temperature_celsius',\n",
    "    'serum_sodium', 'serum_creatinine', 'do_not_resuscitate_status']]"
   ]
  },
  {
   "cell_type": "code",
   "execution_count": 14,
   "metadata": {},
   "outputs": [
    {
     "name": "stderr",
     "output_type": "stream",
     "text": [
      "C:\\Users\\Republic Of Gamers\\AppData\\Local\\Temp\\ipykernel_13152\\2294927819.py:1: SettingWithCopyWarning: \n",
      "A value is trying to be set on a copy of a slice from a DataFrame.\n",
      "Try using .loc[row_indexer,col_indexer] = value instead\n",
      "\n",
      "See the caveats in the documentation: https://pandas.pydata.org/pandas-docs/stable/user_guide/indexing.html#returning-a-view-versus-a-copy\n",
      "  features['do_not_resuscitate_status'] = features['do_not_resuscitate_status'].fillna(0)\n"
     ]
    }
   ],
   "source": [
    "features['do_not_resuscitate_status'] = features['do_not_resuscitate_status'].fillna(0)"
   ]
  },
  {
   "cell_type": "code",
   "execution_count": 15,
   "metadata": {},
   "outputs": [],
   "source": [
    "features = features.dropna()"
   ]
  },
  {
   "cell_type": "code",
   "execution_count": 16,
   "metadata": {},
   "outputs": [
    {
     "name": "stdout",
     "output_type": "stream",
     "text": [
      "death\n",
      "1    2298\n",
      "0    2298\n",
      "Name: count, dtype: int64\n"
     ]
    }
   ],
   "source": [
    "# Separate the majority and minority classes\n",
    "death_majority_class= features[features['death'] == 1]\n",
    "death_minority_class = features[features['death'] == 0]\n",
    "\n",
    "# Undersample the majority class\n",
    "death_majority_class_undersampled = death_majority_class.sample(n=len(death_minority_class), random_state=42)\n",
    "\n",
    "# Combine the undersampled majority class with the minority class\n",
    "death_undersampled_df = pd.concat([death_majority_class_undersampled, death_minority_class], axis=0)\n",
    "\n",
    "# Shuffle the dataset\n",
    "death_undersampled_df= death_undersampled_df.sample(frac=1, random_state=42).reset_index(drop=True)\n",
    "\n",
    "# Check the class distribution after undersampling\n",
    "print(death_undersampled_df['death'].value_counts())"
   ]
  },
  {
   "cell_type": "code",
   "execution_count": 17,
   "metadata": {},
   "outputs": [],
   "source": [
    "X = death_undersampled_df.drop(columns = ['death'])\n",
    "y = death_undersampled_df['death']"
   ]
  },
  {
   "cell_type": "code",
   "execution_count": 18,
   "metadata": {},
   "outputs": [],
   "source": [
    "X_train, X_test, y_train, y_test = train_test_split(X, y, test_size=0.3, random_state=42)"
   ]
  },
  {
   "cell_type": "code",
   "execution_count": 19,
   "metadata": {},
   "outputs": [
    {
     "name": "stdout",
     "output_type": "stream",
     "text": [
      "Fitting 3 folds for each of 108 candidates, totalling 324 fits\n",
      "Best parameters found:  {'colsample_bytree': 1.0, 'learning_rate': 0.01, 'max_depth': 5, 'n_estimators': 100, 'subsample': 1.0}\n"
     ]
    }
   ],
   "source": [
    "param_grid = {\n",
    "    'n_estimators': [100, 200, 300],\n",
    "    'max_depth': [3, 5, 7],\n",
    "    'learning_rate': [0.01, 0.05, 0.1],\n",
    "    'subsample': [0.8, 1.0],\n",
    "    'colsample_bytree': [0.8, 1.0]\n",
    "}\n",
    "\n",
    "xgb_model = XGBClassifier()\n",
    "grid_search = GridSearchCV(estimator=xgb_model, param_grid=param_grid, cv=3, scoring='neg_mean_squared_error', n_jobs=-1, verbose=2)\n",
    "grid_search.fit(X_train, y_train)\n",
    "print(\"Best parameters found: \", grid_search.best_params_)"
   ]
  },
  {
   "cell_type": "code",
   "execution_count": 20,
   "metadata": {},
   "outputs": [
    {
     "name": "stdout",
     "output_type": "stream",
     "text": [
      "Predictions: [1 0 0 ... 0 0 0]\n"
     ]
    }
   ],
   "source": [
    "# Extract the best parameters from the grid search\n",
    "best_params = grid_search.best_params_\n",
    "\n",
    "# Initialize the XGBRegressor with the best parameters\n",
    "best_xgb = XGBClassifier(**best_params)\n",
    "\n",
    "# Fit the model to the full training data\n",
    "best_xgb.fit(X_train, y_train)\n",
    "\n",
    "# Make predictions on the test set or future data\n",
    "y_pred = best_xgb.predict(X_test)\n",
    "y_pred_prob = best_xgb.predict_proba(X_test)[:,1]\n",
    "# Display predictions\n",
    "print(\"Predictions:\", y_pred)"
   ]
  },
  {
   "cell_type": "code",
   "execution_count": 21,
   "metadata": {},
   "outputs": [
    {
     "name": "stdout",
     "output_type": "stream",
     "text": [
      "Confusion Matrix:\n",
      " [[615  64]\n",
      " [196 504]]\n",
      "\n",
      "Classification Report:\n",
      "               precision    recall  f1-score   support\n",
      "\n",
      "           0       0.76      0.91      0.83       679\n",
      "           1       0.89      0.72      0.79       700\n",
      "\n",
      "    accuracy                           0.81      1379\n",
      "   macro avg       0.82      0.81      0.81      1379\n",
      "weighted avg       0.82      0.81      0.81      1379\n",
      "\n",
      "\n",
      "ROC AUC Score: 0.873460972017673\n"
     ]
    }
   ],
   "source": [
    "# Print evaluation metrics\n",
    "print(\"Confusion Matrix:\\n\", confusion_matrix(y_test, y_pred))\n",
    "print(\"\\nClassification Report:\\n\", classification_report(y_test, y_pred))\n",
    "print(\"\\nROC AUC Score:\", roc_auc_score(y_test, y_pred_prob))"
   ]
  },
  {
   "cell_type": "code",
   "execution_count": 22,
   "metadata": {},
   "outputs": [
    {
     "name": "stdout",
     "output_type": "stream",
     "text": [
      "Fitting 3 folds for each of 162 candidates, totalling 486 fits\n"
     ]
    },
    {
     "name": "stderr",
     "output_type": "stream",
     "text": [
      "c:\\Users\\Republic Of Gamers\\AppData\\Local\\Programs\\Python\\Python39\\lib\\site-packages\\numpy\\ma\\core.py:2820: RuntimeWarning: invalid value encountered in cast\n",
      "  _data = np.array(data, dtype=dtype, copy=copy,\n"
     ]
    },
    {
     "name": "stdout",
     "output_type": "stream",
     "text": [
      "Best parameters found:  {'bootstrap': True, 'max_depth': 10, 'min_samples_leaf': 1, 'min_samples_split': 2, 'n_estimators': 200}\n"
     ]
    }
   ],
   "source": [
    "rf_param_grid = {\n",
    "    'n_estimators': [100, 200, 300],\n",
    "    'max_depth': [None, 10, 20],\n",
    "    'min_samples_split': [2, 5, 10],\n",
    "    'min_samples_leaf': [1, 2, 4],\n",
    "    'bootstrap': [True, False]\n",
    "}\n",
    "\n",
    "# Initialize the model\n",
    "rf = RandomForestClassifier()\n",
    "\n",
    "# Set up GridSearchCV\n",
    "grid_search = GridSearchCV(estimator=rf, param_grid=rf_param_grid, cv=3, scoring='neg_mean_squared_error', n_jobs=-1, verbose=2)\n",
    "\n",
    "# Fit to the data\n",
    "grid_search.fit(X_train, y_train)\n",
    "\n",
    "# Best parameters\n",
    "print(\"Best parameters found: \", grid_search.best_params_)"
   ]
  },
  {
   "cell_type": "code",
   "execution_count": 23,
   "metadata": {},
   "outputs": [
    {
     "name": "stdout",
     "output_type": "stream",
     "text": [
      "Predictions: [1 0 0 ... 0 1 0]\n"
     ]
    }
   ],
   "source": [
    "# Extract the best parameters from the grid search\n",
    "best_params = grid_search.best_params_\n",
    "\n",
    "# Initialize the XGBRegressor with the best parameters\n",
    "best_rf = RandomForestClassifier(**best_params)\n",
    "\n",
    "# Fit the model to the full training data\n",
    "best_rf.fit(X_train, y_train)\n",
    "\n",
    "# Make predictions on the test set or future data\n",
    "y_pred_rf = best_rf.predict(X_test)\n",
    "y_pred_prob_rf = best_rf.predict_proba(X_test)[:,1]\n",
    "# Display predictions\n",
    "print(\"Predictions:\", y_pred_rf)"
   ]
  },
  {
   "cell_type": "code",
   "execution_count": 24,
   "metadata": {},
   "outputs": [
    {
     "name": "stdout",
     "output_type": "stream",
     "text": [
      "Confusion Matrix:\n",
      " [[609  70]\n",
      " [196 504]]\n",
      "\n",
      "Classification Report:\n",
      "               precision    recall  f1-score   support\n",
      "\n",
      "           0       0.76      0.90      0.82       679\n",
      "           1       0.88      0.72      0.79       700\n",
      "\n",
      "    accuracy                           0.81      1379\n",
      "   macro avg       0.82      0.81      0.81      1379\n",
      "weighted avg       0.82      0.81      0.81      1379\n",
      "\n",
      "\n",
      "ROC AUC Score: 0.8727771933515673\n"
     ]
    }
   ],
   "source": [
    "print(\"Confusion Matrix:\\n\", confusion_matrix(y_test, y_pred_rf))\n",
    "print(\"\\nClassification Report:\\n\", classification_report(y_test, y_pred_rf))\n",
    "print(\"\\nROC AUC Score:\", roc_auc_score(y_test, y_pred_prob_rf))"
   ]
  },
  {
   "cell_type": "code",
   "execution_count": 26,
   "metadata": {},
   "outputs": [
    {
     "data": {
      "text/plain": [
       "['xgb_survival_rate.pkl']"
      ]
     },
     "execution_count": 26,
     "metadata": {},
     "output_type": "execute_result"
    }
   ],
   "source": [
    "joblib.dump(best_xgb, 'xgb_survival_rate.pkl')"
   ]
  }
 ],
 "metadata": {
  "kernelspec": {
   "display_name": "Python 3",
   "language": "python",
   "name": "python3"
  },
  "language_info": {
   "codemirror_mode": {
    "name": "ipython",
    "version": 3
   },
   "file_extension": ".py",
   "mimetype": "text/x-python",
   "name": "python",
   "nbconvert_exporter": "python",
   "pygments_lexer": "ipython3",
   "version": "3.9.6"
  }
 },
 "nbformat": 4,
 "nbformat_minor": 2
}
