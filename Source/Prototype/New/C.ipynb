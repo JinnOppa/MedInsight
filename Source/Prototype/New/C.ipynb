{
 "cells": [
  {
   "cell_type": "code",
   "execution_count": 1,
   "metadata": {},
   "outputs": [],
   "source": [
    "import pandas as pd"
   ]
  },
  {
   "cell_type": "code",
   "execution_count": 3,
   "metadata": {},
   "outputs": [],
   "source": [
    "df = pd.read_csv('C:/Users/Eugene/Documents/GitHub/TSDN-BoyWithLuv/Source/Prototype/New/front_service.csv')"
   ]
  },
  {
   "cell_type": "code",
   "execution_count": 4,
   "metadata": {},
   "outputs": [
    {
     "data": {
      "text/html": [
       "<div>\n",
       "<style scoped>\n",
       "    .dataframe tbody tr th:only-of-type {\n",
       "        vertical-align: middle;\n",
       "    }\n",
       "\n",
       "    .dataframe tbody tr th {\n",
       "        vertical-align: top;\n",
       "    }\n",
       "\n",
       "    .dataframe thead th {\n",
       "        text-align: right;\n",
       "    }\n",
       "</style>\n",
       "<table border=\"1\" class=\"dataframe\">\n",
       "  <thead>\n",
       "    <tr style=\"text-align: right;\">\n",
       "      <th></th>\n",
       "      <th>age</th>\n",
       "      <th>sex</th>\n",
       "      <th>dzgroup</th>\n",
       "      <th>dzclass</th>\n",
       "      <th>num.co</th>\n",
       "      <th>edu</th>\n",
       "      <th>income</th>\n",
       "      <th>scoma</th>\n",
       "      <th>charges</th>\n",
       "      <th>totcst</th>\n",
       "      <th>...</th>\n",
       "      <th>bili</th>\n",
       "      <th>crea</th>\n",
       "      <th>sod</th>\n",
       "      <th>ph</th>\n",
       "      <th>glucose</th>\n",
       "      <th>bun</th>\n",
       "      <th>urine</th>\n",
       "      <th>adlp</th>\n",
       "      <th>adls</th>\n",
       "      <th>adlsc</th>\n",
       "    </tr>\n",
       "  </thead>\n",
       "  <tbody>\n",
       "    <tr>\n",
       "      <th>0</th>\n",
       "      <td>62.84998</td>\n",
       "      <td>1</td>\n",
       "      <td>Lung Cancer</td>\n",
       "      <td>Cancer</td>\n",
       "      <td>0</td>\n",
       "      <td>11.0</td>\n",
       "      <td>$11-$25k</td>\n",
       "      <td>0.0</td>\n",
       "      <td>9715.0</td>\n",
       "      <td>NaN</td>\n",
       "      <td>...</td>\n",
       "      <td>0.199982</td>\n",
       "      <td>1.199951</td>\n",
       "      <td>141.0</td>\n",
       "      <td>7.459961</td>\n",
       "      <td>NaN</td>\n",
       "      <td>NaN</td>\n",
       "      <td>NaN</td>\n",
       "      <td>7.0</td>\n",
       "      <td>7.0</td>\n",
       "      <td>7.0</td>\n",
       "    </tr>\n",
       "    <tr>\n",
       "      <th>1</th>\n",
       "      <td>60.33899</td>\n",
       "      <td>0</td>\n",
       "      <td>Cirrhosis</td>\n",
       "      <td>COPD/CHF/Cirrhosis</td>\n",
       "      <td>2</td>\n",
       "      <td>12.0</td>\n",
       "      <td>$11-$25k</td>\n",
       "      <td>44.0</td>\n",
       "      <td>34496.0</td>\n",
       "      <td>NaN</td>\n",
       "      <td>...</td>\n",
       "      <td>NaN</td>\n",
       "      <td>5.500000</td>\n",
       "      <td>132.0</td>\n",
       "      <td>7.250000</td>\n",
       "      <td>NaN</td>\n",
       "      <td>NaN</td>\n",
       "      <td>NaN</td>\n",
       "      <td>NaN</td>\n",
       "      <td>1.0</td>\n",
       "      <td>1.0</td>\n",
       "    </tr>\n",
       "    <tr>\n",
       "      <th>2</th>\n",
       "      <td>52.74698</td>\n",
       "      <td>0</td>\n",
       "      <td>Cirrhosis</td>\n",
       "      <td>COPD/CHF/Cirrhosis</td>\n",
       "      <td>2</td>\n",
       "      <td>12.0</td>\n",
       "      <td>under $11k</td>\n",
       "      <td>0.0</td>\n",
       "      <td>41094.0</td>\n",
       "      <td>NaN</td>\n",
       "      <td>...</td>\n",
       "      <td>2.199707</td>\n",
       "      <td>2.000000</td>\n",
       "      <td>134.0</td>\n",
       "      <td>7.459961</td>\n",
       "      <td>NaN</td>\n",
       "      <td>NaN</td>\n",
       "      <td>NaN</td>\n",
       "      <td>1.0</td>\n",
       "      <td>0.0</td>\n",
       "      <td>0.0</td>\n",
       "    </tr>\n",
       "    <tr>\n",
       "      <th>3</th>\n",
       "      <td>42.38498</td>\n",
       "      <td>0</td>\n",
       "      <td>Lung Cancer</td>\n",
       "      <td>Cancer</td>\n",
       "      <td>2</td>\n",
       "      <td>11.0</td>\n",
       "      <td>under $11k</td>\n",
       "      <td>0.0</td>\n",
       "      <td>3075.0</td>\n",
       "      <td>NaN</td>\n",
       "      <td>...</td>\n",
       "      <td>NaN</td>\n",
       "      <td>0.799927</td>\n",
       "      <td>139.0</td>\n",
       "      <td>NaN</td>\n",
       "      <td>NaN</td>\n",
       "      <td>NaN</td>\n",
       "      <td>NaN</td>\n",
       "      <td>0.0</td>\n",
       "      <td>0.0</td>\n",
       "      <td>0.0</td>\n",
       "    </tr>\n",
       "    <tr>\n",
       "      <th>4</th>\n",
       "      <td>79.88495</td>\n",
       "      <td>0</td>\n",
       "      <td>ARF/MOSF w/Sepsis</td>\n",
       "      <td>ARF/MOSF</td>\n",
       "      <td>1</td>\n",
       "      <td>NaN</td>\n",
       "      <td>NaN</td>\n",
       "      <td>26.0</td>\n",
       "      <td>50127.0</td>\n",
       "      <td>NaN</td>\n",
       "      <td>...</td>\n",
       "      <td>NaN</td>\n",
       "      <td>0.799927</td>\n",
       "      <td>143.0</td>\n",
       "      <td>7.509766</td>\n",
       "      <td>NaN</td>\n",
       "      <td>NaN</td>\n",
       "      <td>NaN</td>\n",
       "      <td>NaN</td>\n",
       "      <td>2.0</td>\n",
       "      <td>2.0</td>\n",
       "    </tr>\n",
       "  </tbody>\n",
       "</table>\n",
       "<p>5 rows × 42 columns</p>\n",
       "</div>"
      ],
      "text/plain": [
       "        age  sex            dzgroup             dzclass  num.co   edu  \\\n",
       "0  62.84998    1        Lung Cancer              Cancer       0  11.0   \n",
       "1  60.33899    0          Cirrhosis  COPD/CHF/Cirrhosis       2  12.0   \n",
       "2  52.74698    0          Cirrhosis  COPD/CHF/Cirrhosis       2  12.0   \n",
       "3  42.38498    0        Lung Cancer              Cancer       2  11.0   \n",
       "4  79.88495    0  ARF/MOSF w/Sepsis            ARF/MOSF       1   NaN   \n",
       "\n",
       "       income  scoma  charges  totcst  ...      bili      crea    sod  \\\n",
       "0    $11-$25k    0.0   9715.0     NaN  ...  0.199982  1.199951  141.0   \n",
       "1    $11-$25k   44.0  34496.0     NaN  ...       NaN  5.500000  132.0   \n",
       "2  under $11k    0.0  41094.0     NaN  ...  2.199707  2.000000  134.0   \n",
       "3  under $11k    0.0   3075.0     NaN  ...       NaN  0.799927  139.0   \n",
       "4         NaN   26.0  50127.0     NaN  ...       NaN  0.799927  143.0   \n",
       "\n",
       "         ph  glucose  bun  urine  adlp  adls  adlsc  \n",
       "0  7.459961      NaN  NaN    NaN   7.0   7.0    7.0  \n",
       "1  7.250000      NaN  NaN    NaN   NaN   1.0    1.0  \n",
       "2  7.459961      NaN  NaN    NaN   1.0   0.0    0.0  \n",
       "3       NaN      NaN  NaN    NaN   0.0   0.0    0.0  \n",
       "4  7.509766      NaN  NaN    NaN   NaN   2.0    2.0  \n",
       "\n",
       "[5 rows x 42 columns]"
      ]
     },
     "execution_count": 4,
     "metadata": {},
     "output_type": "execute_result"
    }
   ],
   "source": [
    "df.head()"
   ]
  },
  {
   "cell_type": "code",
   "execution_count": 5,
   "metadata": {},
   "outputs": [
    {
     "name": "stdout",
     "output_type": "stream",
     "text": [
      "<class 'pandas.core.frame.DataFrame'>\n",
      "RangeIndex: 9105 entries, 0 to 9104\n",
      "Data columns (total 42 columns):\n",
      " #   Column    Non-Null Count  Dtype  \n",
      "---  ------    --------------  -----  \n",
      " 0   age       9105 non-null   float64\n",
      " 1   sex       9105 non-null   int64  \n",
      " 2   dzgroup   9105 non-null   object \n",
      " 3   dzclass   9105 non-null   object \n",
      " 4   num.co    9105 non-null   int64  \n",
      " 5   edu       7471 non-null   float64\n",
      " 6   income    6123 non-null   object \n",
      " 7   scoma     9104 non-null   float64\n",
      " 8   charges   8933 non-null   float64\n",
      " 9   totcst    8217 non-null   float64\n",
      " 10  totmcst   5630 non-null   float64\n",
      " 11  avtisst   9023 non-null   float64\n",
      " 12  race      9063 non-null   object \n",
      " 13  sps       9104 non-null   float64\n",
      " 14  aps       9104 non-null   float64\n",
      " 15  surv2m    9104 non-null   float64\n",
      " 16  surv6m    9104 non-null   float64\n",
      " 17  hday      9105 non-null   int64  \n",
      " 18  diabetes  9105 non-null   int64  \n",
      " 19  dementia  9105 non-null   int64  \n",
      " 20  ca        9105 non-null   object \n",
      " 21  prg2m     7456 non-null   float64\n",
      " 22  prg6m     7472 non-null   float64\n",
      " 23  dnr       9075 non-null   object \n",
      " 24  dnrday    9075 non-null   float64\n",
      " 25  meanbp    9104 non-null   float64\n",
      " 26  wblc      8893 non-null   float64\n",
      " 27  hrt       9104 non-null   float64\n",
      " 28  resp      9104 non-null   float64\n",
      " 29  temp      9104 non-null   float64\n",
      " 30  pafi      6780 non-null   float64\n",
      " 31  alb       5733 non-null   float64\n",
      " 32  bili      6504 non-null   float64\n",
      " 33  crea      9038 non-null   float64\n",
      " 34  sod       9104 non-null   float64\n",
      " 35  ph        6821 non-null   float64\n",
      " 36  glucose   4605 non-null   float64\n",
      " 37  bun       4753 non-null   float64\n",
      " 38  urine     4243 non-null   float64\n",
      " 39  adlp      3464 non-null   float64\n",
      " 40  adls      6238 non-null   float64\n",
      " 41  adlsc     9105 non-null   float64\n",
      "dtypes: float64(31), int64(5), object(6)\n",
      "memory usage: 2.9+ MB\n"
     ]
    }
   ],
   "source": [
    "df.info()"
   ]
  },
  {
   "cell_type": "code",
   "execution_count": 6,
   "metadata": {},
   "outputs": [],
   "source": [
    "df.rename(columns={\n",
    "    'age': 'age_years',\n",
    "    'sex': 'gender',\n",
    "    'dzgroup': 'disease_group',\n",
    "    'dzclass': 'disease_class',\n",
    "    'num.co': 'num_comorbidities',\n",
    "    'edu': 'education_years',\n",
    "    'income': 'income_range',\n",
    "    'scoma': 'coma_score',\n",
    "    'charges': 'hospital_charges',\n",
    "    'totcst': 'total_cost_to_charges_ratio',\n",
    "    'totmcst': 'total_micro_cost',\n",
    "    'avtisst': 'avg_tiss_score',\n",
    "    'race': 'race_ethnicity',\n",
    "    'sps': 'support_physiology_score',\n",
    "    'aps': 'apache_score',\n",
    "    'surv2m': 'survival_2_months',\n",
    "    'surv6m': 'survival_6_months',\n",
    "    'hday': 'hospital_day_of_study_entry',\n",
    "    'diabetes': 'has_diabetes',\n",
    "    'dementia': 'has_dementia',\n",
    "    'ca': 'cancer_status',\n",
    "    'prg2m': 'physician_survival_2_months',\n",
    "    'prg6m': 'physician_survival_6_months',\n",
    "    'dnr': 'do_not_resuscitate_status',\n",
    "    'dnrday': 'day_of_dnr_order',\n",
    "    'meanbp': 'mean_arterial_bp',\n",
    "    'wblc': 'white_blood_cell_count',\n",
    "    'hrt': 'heart_rate',\n",
    "    'resp': 'respiratory_rate',\n",
    "    'temp': 'body_temperature_celsius',\n",
    "    'pafi': 'pao2_fio2_ratio',\n",
    "    'alb': 'serum_albumin',\n",
    "    'bili': 'bilirubin_level',\n",
    "    'crea': 'serum_creatinine',\n",
    "    'sod': 'serum_sodium',\n",
    "    'ph': 'blood_ph',\n",
    "    'glucose': 'glucose_level',\n",
    "    'bun': 'blood_urea_nitrogen',\n",
    "    'urine': 'urine_output',\n",
    "    'adlp': 'adl_index_patient',\n",
    "    'adls': 'adl_index_surrogate',\n",
    "    'sfdm2': 'functional_disability_level',\n",
    "    'adlsc': 'calibrated_adl_index_surrogate'\n",
    "}, inplace=True)\n"
   ]
  },
  {
   "cell_type": "code",
   "execution_count": 7,
   "metadata": {},
   "outputs": [
    {
     "name": "stdout",
     "output_type": "stream",
     "text": [
      "<class 'pandas.core.frame.DataFrame'>\n",
      "RangeIndex: 9105 entries, 0 to 9104\n",
      "Data columns (total 42 columns):\n",
      " #   Column                          Non-Null Count  Dtype  \n",
      "---  ------                          --------------  -----  \n",
      " 0   age_years                       9105 non-null   float64\n",
      " 1   gender                          9105 non-null   int64  \n",
      " 2   disease_group                   9105 non-null   object \n",
      " 3   disease_class                   9105 non-null   object \n",
      " 4   num_comorbidities               9105 non-null   int64  \n",
      " 5   education_years                 7471 non-null   float64\n",
      " 6   income_range                    6123 non-null   object \n",
      " 7   coma_score                      9104 non-null   float64\n",
      " 8   hospital_charges                8933 non-null   float64\n",
      " 9   total_cost_to_charges_ratio     8217 non-null   float64\n",
      " 10  total_micro_cost                5630 non-null   float64\n",
      " 11  avg_tiss_score                  9023 non-null   float64\n",
      " 12  race_ethnicity                  9063 non-null   object \n",
      " 13  support_physiology_score        9104 non-null   float64\n",
      " 14  apache_score                    9104 non-null   float64\n",
      " 15  survival_2_months               9104 non-null   float64\n",
      " 16  survival_6_months               9104 non-null   float64\n",
      " 17  hospital_day_of_study_entry     9105 non-null   int64  \n",
      " 18  has_diabetes                    9105 non-null   int64  \n",
      " 19  has_dementia                    9105 non-null   int64  \n",
      " 20  cancer_status                   9105 non-null   object \n",
      " 21  physician_survival_2_months     7456 non-null   float64\n",
      " 22  physician_survival_6_months     7472 non-null   float64\n",
      " 23  do_not_resuscitate_status       9075 non-null   object \n",
      " 24  day_of_dnr_order                9075 non-null   float64\n",
      " 25  mean_arterial_bp                9104 non-null   float64\n",
      " 26  white_blood_cell_count          8893 non-null   float64\n",
      " 27  heart_rate                      9104 non-null   float64\n",
      " 28  respiratory_rate                9104 non-null   float64\n",
      " 29  body_temperature_celsius        9104 non-null   float64\n",
      " 30  pao2_fio2_ratio                 6780 non-null   float64\n",
      " 31  serum_albumin                   5733 non-null   float64\n",
      " 32  bilirubin_level                 6504 non-null   float64\n",
      " 33  serum_creatinine                9038 non-null   float64\n",
      " 34  serum_sodium                    9104 non-null   float64\n",
      " 35  blood_ph                        6821 non-null   float64\n",
      " 36  glucose_level                   4605 non-null   float64\n",
      " 37  blood_urea_nitrogen             4753 non-null   float64\n",
      " 38  urine_output                    4243 non-null   float64\n",
      " 39  adl_index_patient               3464 non-null   float64\n",
      " 40  adl_index_surrogate             6238 non-null   float64\n",
      " 41  calibrated_adl_index_surrogate  9105 non-null   float64\n",
      "dtypes: float64(31), int64(5), object(6)\n",
      "memory usage: 2.9+ MB\n"
     ]
    }
   ],
   "source": [
    "df.info()"
   ]
  },
  {
   "cell_type": "code",
   "execution_count": 8,
   "metadata": {},
   "outputs": [
    {
     "data": {
      "text/html": [
       "<div>\n",
       "<style scoped>\n",
       "    .dataframe tbody tr th:only-of-type {\n",
       "        vertical-align: middle;\n",
       "    }\n",
       "\n",
       "    .dataframe tbody tr th {\n",
       "        vertical-align: top;\n",
       "    }\n",
       "\n",
       "    .dataframe thead th {\n",
       "        text-align: right;\n",
       "    }\n",
       "</style>\n",
       "<table border=\"1\" class=\"dataframe\">\n",
       "  <thead>\n",
       "    <tr style=\"text-align: right;\">\n",
       "      <th></th>\n",
       "      <th>disease_group</th>\n",
       "      <th>disease_class</th>\n",
       "      <th>income_range</th>\n",
       "      <th>race_ethnicity</th>\n",
       "      <th>cancer_status</th>\n",
       "      <th>do_not_resuscitate_status</th>\n",
       "    </tr>\n",
       "  </thead>\n",
       "  <tbody>\n",
       "    <tr>\n",
       "      <th>count</th>\n",
       "      <td>9105</td>\n",
       "      <td>9105</td>\n",
       "      <td>6123</td>\n",
       "      <td>9063</td>\n",
       "      <td>9105</td>\n",
       "      <td>9075</td>\n",
       "    </tr>\n",
       "    <tr>\n",
       "      <th>unique</th>\n",
       "      <td>8</td>\n",
       "      <td>4</td>\n",
       "      <td>4</td>\n",
       "      <td>5</td>\n",
       "      <td>3</td>\n",
       "      <td>3</td>\n",
       "    </tr>\n",
       "    <tr>\n",
       "      <th>top</th>\n",
       "      <td>ARF/MOSF w/Sepsis</td>\n",
       "      <td>ARF/MOSF</td>\n",
       "      <td>under $11k</td>\n",
       "      <td>white</td>\n",
       "      <td>no</td>\n",
       "      <td>no dnr</td>\n",
       "    </tr>\n",
       "    <tr>\n",
       "      <th>freq</th>\n",
       "      <td>3515</td>\n",
       "      <td>4227</td>\n",
       "      <td>2855</td>\n",
       "      <td>7191</td>\n",
       "      <td>5995</td>\n",
       "      <td>5880</td>\n",
       "    </tr>\n",
       "  </tbody>\n",
       "</table>\n",
       "</div>"
      ],
      "text/plain": [
       "            disease_group disease_class income_range race_ethnicity  \\\n",
       "count                9105          9105         6123           9063   \n",
       "unique                  8             4            4              5   \n",
       "top     ARF/MOSF w/Sepsis      ARF/MOSF   under $11k          white   \n",
       "freq                 3515          4227         2855           7191   \n",
       "\n",
       "       cancer_status do_not_resuscitate_status  \n",
       "count           9105                      9075  \n",
       "unique             3                         3  \n",
       "top               no                    no dnr  \n",
       "freq            5995                      5880  "
      ]
     },
     "execution_count": 8,
     "metadata": {},
     "output_type": "execute_result"
    }
   ],
   "source": [
    "df.describe(include=object)"
   ]
  },
  {
   "cell_type": "code",
   "execution_count": 10,
   "metadata": {},
   "outputs": [
    {
     "data": {
      "text/plain": [
       "array(['Lung Cancer', 'Cirrhosis', 'ARF/MOSF w/Sepsis', 'Coma', 'CHF',\n",
       "       'Colon Cancer', 'COPD', 'MOSF w/Malig'], dtype=object)"
      ]
     },
     "execution_count": 10,
     "metadata": {},
     "output_type": "execute_result"
    }
   ],
   "source": [
    "df['disease_group'].unique()"
   ]
  },
  {
   "cell_type": "code",
   "execution_count": 11,
   "metadata": {},
   "outputs": [
    {
     "data": {
      "text/plain": [
       "array(['Cancer', 'COPD/CHF/Cirrhosis', 'ARF/MOSF', 'Coma'], dtype=object)"
      ]
     },
     "execution_count": 11,
     "metadata": {},
     "output_type": "execute_result"
    }
   ],
   "source": [
    "df['disease_class'].unique()"
   ]
  },
  {
   "cell_type": "code",
   "execution_count": 12,
   "metadata": {},
   "outputs": [
    {
     "data": {
      "text/plain": [
       "array(['$11-$25k', 'under $11k', nan, '$25-$50k', '>$50k'], dtype=object)"
      ]
     },
     "execution_count": 12,
     "metadata": {},
     "output_type": "execute_result"
    }
   ],
   "source": [
    "df['income_range'].unique()"
   ]
  },
  {
   "cell_type": "code",
   "execution_count": 13,
   "metadata": {},
   "outputs": [
    {
     "data": {
      "text/plain": [
       "array(['other', 'white', 'black', 'hispanic', 'asian', nan], dtype=object)"
      ]
     },
     "execution_count": 13,
     "metadata": {},
     "output_type": "execute_result"
    }
   ],
   "source": [
    "df['race_ethnicity'].unique()"
   ]
  },
  {
   "cell_type": "code",
   "execution_count": 14,
   "metadata": {},
   "outputs": [
    {
     "data": {
      "text/plain": [
       "array(['metastatic', 'no', 'yes'], dtype=object)"
      ]
     },
     "execution_count": 14,
     "metadata": {},
     "output_type": "execute_result"
    }
   ],
   "source": [
    "df['cancer_status'].unique()"
   ]
  },
  {
   "cell_type": "code",
   "execution_count": 15,
   "metadata": {},
   "outputs": [
    {
     "data": {
      "text/plain": [
       "array(['no dnr', nan, 'dnr after sadm', 'dnr before sadm'], dtype=object)"
      ]
     },
     "execution_count": 15,
     "metadata": {},
     "output_type": "execute_result"
    }
   ],
   "source": [
    "df['do_not_resuscitate_status'].unique()"
   ]
  },
  {
   "cell_type": "code",
   "execution_count": 16,
   "metadata": {},
   "outputs": [],
   "source": [
    "disease_group_mapping = {\n",
    "    'Lung Cancer': 1,\n",
    "    'Cirrhosis': 2,\n",
    "    'ARF/MOSF w/Sepsis': 3,\n",
    "    'Coma': 4,\n",
    "    'CHF': 5,\n",
    "    'Colon Cancer': 6,\n",
    "    'COPD': 7,\n",
    "    'MOSF w/Malig': 8\n",
    "}\n",
    "\n",
    "disease_class_mapping = {\n",
    "    'Cancer': 1,\n",
    "    'COPD/CHF/Cirrhosis': 2,\n",
    "    'ARF/MOSF': 3,\n",
    "    'Coma': 4\n",
    "}\n",
    "\n",
    "income_range_mapping = {\n",
    "    '$11-$25k': 1,\n",
    "    'under $11k': 2,\n",
    "    '$25-$50k': 3,\n",
    "    '>$50k': 4\n",
    "}\n",
    "\n",
    "race_ethnicity_mapping = {\n",
    "    'other': 1,\n",
    "    'white': 2,\n",
    "    'black': 3,\n",
    "    'hispanic': 4,\n",
    "    'asian': 5\n",
    "}\n",
    "\n",
    "cancer_status_mapping = {\n",
    "    'metastatic': 1,\n",
    "    'no': 0,\n",
    "    'yes': 2\n",
    "}\n",
    "\n",
    "dnr_status_mapping = {\n",
    "    'no dnr': 0,\n",
    "    'dnr after sadm': 1,\n",
    "    'dnr before sadm': 2\n",
    "}"
   ]
  },
  {
   "cell_type": "code",
   "execution_count": 17,
   "metadata": {},
   "outputs": [],
   "source": [
    "df['disease_group'] = df['disease_group'].map(disease_group_mapping)\n",
    "df['disease_class'] = df['disease_class'].map(disease_class_mapping)\n",
    "df['income_range'] = df['income_range'].map(income_range_mapping)\n",
    "df['race_ethnicity'] = df['race_ethnicity'].map(race_ethnicity_mapping)\n",
    "df['cancer_status'] = df['cancer_status'].map(cancer_status_mapping)\n",
    "df['do_not_resuscitate_status'] = df['do_not_resuscitate_status'].map(dnr_status_mapping)"
   ]
  },
  {
   "cell_type": "code",
   "execution_count": 18,
   "metadata": {},
   "outputs": [
    {
     "name": "stdout",
     "output_type": "stream",
     "text": [
      "<class 'pandas.core.frame.DataFrame'>\n",
      "RangeIndex: 9105 entries, 0 to 9104\n",
      "Data columns (total 42 columns):\n",
      " #   Column                          Non-Null Count  Dtype  \n",
      "---  ------                          --------------  -----  \n",
      " 0   age_years                       9105 non-null   float64\n",
      " 1   gender                          9105 non-null   int64  \n",
      " 2   disease_group                   9105 non-null   int64  \n",
      " 3   disease_class                   9105 non-null   int64  \n",
      " 4   num_comorbidities               9105 non-null   int64  \n",
      " 5   education_years                 7471 non-null   float64\n",
      " 6   income_range                    6123 non-null   float64\n",
      " 7   coma_score                      9104 non-null   float64\n",
      " 8   hospital_charges                8933 non-null   float64\n",
      " 9   total_cost_to_charges_ratio     8217 non-null   float64\n",
      " 10  total_micro_cost                5630 non-null   float64\n",
      " 11  avg_tiss_score                  9023 non-null   float64\n",
      " 12  race_ethnicity                  9063 non-null   float64\n",
      " 13  support_physiology_score        9104 non-null   float64\n",
      " 14  apache_score                    9104 non-null   float64\n",
      " 15  survival_2_months               9104 non-null   float64\n",
      " 16  survival_6_months               9104 non-null   float64\n",
      " 17  hospital_day_of_study_entry     9105 non-null   int64  \n",
      " 18  has_diabetes                    9105 non-null   int64  \n",
      " 19  has_dementia                    9105 non-null   int64  \n",
      " 20  cancer_status                   9105 non-null   int64  \n",
      " 21  physician_survival_2_months     7456 non-null   float64\n",
      " 22  physician_survival_6_months     7472 non-null   float64\n",
      " 23  do_not_resuscitate_status       9075 non-null   float64\n",
      " 24  day_of_dnr_order                9075 non-null   float64\n",
      " 25  mean_arterial_bp                9104 non-null   float64\n",
      " 26  white_blood_cell_count          8893 non-null   float64\n",
      " 27  heart_rate                      9104 non-null   float64\n",
      " 28  respiratory_rate                9104 non-null   float64\n",
      " 29  body_temperature_celsius        9104 non-null   float64\n",
      " 30  pao2_fio2_ratio                 6780 non-null   float64\n",
      " 31  serum_albumin                   5733 non-null   float64\n",
      " 32  bilirubin_level                 6504 non-null   float64\n",
      " 33  serum_creatinine                9038 non-null   float64\n",
      " 34  serum_sodium                    9104 non-null   float64\n",
      " 35  blood_ph                        6821 non-null   float64\n",
      " 36  glucose_level                   4605 non-null   float64\n",
      " 37  blood_urea_nitrogen             4753 non-null   float64\n",
      " 38  urine_output                    4243 non-null   float64\n",
      " 39  adl_index_patient               3464 non-null   float64\n",
      " 40  adl_index_surrogate             6238 non-null   float64\n",
      " 41  calibrated_adl_index_surrogate  9105 non-null   float64\n",
      "dtypes: float64(34), int64(8)\n",
      "memory usage: 2.9 MB\n"
     ]
    }
   ],
   "source": [
    "df.info()"
   ]
  },
  {
   "cell_type": "markdown",
   "metadata": {},
   "source": [
    "## Patient Risk Classifier"
   ]
  },
  {
   "cell_type": "code",
   "execution_count": null,
   "metadata": {},
   "outputs": [],
   "source": [
    "from sklearn.model_selection import train_test_split\n",
    "from sklearn.ensemble import RandomForestClassifier\n",
    "from sklearn.metrics import classification_report\n",
    "\n",
    "# Prepare data\n",
    "X = df[['age_years', 'disease_group', 'disease_class', 'income_range', 'coma_score', 'hospital_charges', 'apache_score']]\n",
    "y = df['survival_2_months'].apply(lambda x: 1 if x == 1 else 0)  # Binary survival outcome\n",
    "\n",
    "# Train-test split\n",
    "X_train, X_test, y_train, y_test = train_test_split(X, y, test_size=0.2, random_state=42)\n",
    "\n",
    "# Model\n",
    "clf = RandomForestClassifier(n_estimators=100)\n",
    "clf.fit(X_train, y_train)\n",
    "\n",
    "# Evaluate\n",
    "y_pred = clf.predict(X_test)\n",
    "print(classification_report(y_test, y_pred))\n"
   ]
  },
  {
   "cell_type": "markdown",
   "metadata": {},
   "source": [
    "## Survival Analysis"
   ]
  },
  {
   "cell_type": "code",
   "execution_count": null,
   "metadata": {},
   "outputs": [],
   "source": [
    "from lifelines import CoxPHFitter\n",
    "from lifelines import KaplanMeierFitter\n",
    "\n",
    "# Prepare data for Cox model\n",
    "cox_data = df[['age_years', 'disease_group', 'income_range', 'hospital_charges', 'apache_score', 'survival_2_months']]\n",
    "cox_data['event'] = cox_data['survival_2_months'].apply(lambda x: 1 if x == 1 else 0)\n",
    "\n",
    "# Fit Cox Proportional Hazards Model\n",
    "cph = CoxPHFitter()\n",
    "cph.fit(cox_data, duration_col='age_years', event_col='event')\n",
    "cph.print_summary()\n",
    "\n",
    "# Kaplan-Meier Estimator\n",
    "kmf = KaplanMeierFitter()\n",
    "kmf.fit(durations=cox_data['age_years'], event_observed=cox_data['event'])\n",
    "kmf.plot()\n"
   ]
  },
  {
   "cell_type": "markdown",
   "metadata": {},
   "source": [
    "## Cost Prediction"
   ]
  },
  {
   "cell_type": "code",
   "execution_count": null,
   "metadata": {},
   "outputs": [],
   "source": [
    "from sklearn.linear_model import LinearRegression\n",
    "from sklearn.ensemble import RandomForestRegressor\n",
    "from sklearn.metrics import mean_squared_error\n",
    "\n",
    "# Prepare data\n",
    "X = df[['age_years', 'num_comorbidities', 'disease_group', 'income_range', 'hospital_charges', 'support_physiology_score', 'apache_score']]\n",
    "y = df['hospital_charges']\n",
    "\n",
    "# Train-test split\n",
    "X_train, X_test, y_train, y_test = train_test_split(X, y, test_size=0.2, random_state=42)\n",
    "\n",
    "# Model\n",
    "model = RandomForestRegressor(n_estimators=100)\n",
    "model.fit(X_train, y_train)\n",
    "\n",
    "# Predict\n",
    "y_pred = model.predict(X_test)\n",
    "\n",
    "# Evaluate\n",
    "print(\"Mean Squared Error: \", mean_squared_error(y_test, y_pred))\n"
   ]
  }
 ],
 "metadata": {
  "kernelspec": {
   "display_name": "Python 3",
   "language": "python",
   "name": "python3"
  },
  "language_info": {
   "codemirror_mode": {
    "name": "ipython",
    "version": 3
   },
   "file_extension": ".py",
   "mimetype": "text/x-python",
   "name": "python",
   "nbconvert_exporter": "python",
   "pygments_lexer": "ipython3",
   "version": "3.12.7"
  }
 },
 "nbformat": 4,
 "nbformat_minor": 2
}
