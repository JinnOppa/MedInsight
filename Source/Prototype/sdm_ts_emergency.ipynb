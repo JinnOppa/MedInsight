{
 "cells": [
  {
   "cell_type": "code",
   "execution_count": 2,
   "metadata": {},
   "outputs": [],
   "source": [
    "import pandas as pd\n",
    "import matplotlib.pyplot as plt\n",
    "import numpy as np\n",
    "import seaborn as sns\n",
    "from sklearn.model_selection import GridSearchCV\n",
    "from xgboost import XGBRegressor\n",
    "from sklearn.ensemble import RandomForestRegressor\n",
    "from sklearn.metrics import mean_absolute_error, mean_squared_error, r2_score\n"
   ]
  },
  {
   "cell_type": "code",
   "execution_count": 15,
   "metadata": {},
   "outputs": [
    {
     "data": {
      "text/html": [
       "<div>\n",
       "<style scoped>\n",
       "    .dataframe tbody tr th:only-of-type {\n",
       "        vertical-align: middle;\n",
       "    }\n",
       "\n",
       "    .dataframe tbody tr th {\n",
       "        vertical-align: top;\n",
       "    }\n",
       "\n",
       "    .dataframe thead th {\n",
       "        text-align: right;\n",
       "    }\n",
       "</style>\n",
       "<table border=\"1\" class=\"dataframe\">\n",
       "  <thead>\n",
       "    <tr style=\"text-align: right;\">\n",
       "      <th></th>\n",
       "      <th>Emergency</th>\n",
       "      <th>('Emergency', 'A')</th>\n",
       "      <th>('Emergency', 'AB')</th>\n",
       "      <th>('Emergency', 'B')</th>\n",
       "      <th>('Emergency', 'O')</th>\n",
       "      <th>('Emergency', 'Female')</th>\n",
       "      <th>('Emergency', 'Male')</th>\n",
       "      <th>Emergency_Lag_1</th>\n",
       "      <th>Emergency_Lag_2</th>\n",
       "      <th>Emergency_Lag_3</th>\n",
       "    </tr>\n",
       "  </thead>\n",
       "  <tbody>\n",
       "    <tr>\n",
       "      <th>0</th>\n",
       "      <td>305</td>\n",
       "      <td>81</td>\n",
       "      <td>77</td>\n",
       "      <td>72</td>\n",
       "      <td>75</td>\n",
       "      <td>157</td>\n",
       "      <td>148</td>\n",
       "      <td>308.0</td>\n",
       "      <td>275.0</td>\n",
       "      <td>224.0</td>\n",
       "    </tr>\n",
       "    <tr>\n",
       "      <th>1</th>\n",
       "      <td>300</td>\n",
       "      <td>73</td>\n",
       "      <td>71</td>\n",
       "      <td>83</td>\n",
       "      <td>73</td>\n",
       "      <td>140</td>\n",
       "      <td>160</td>\n",
       "      <td>305.0</td>\n",
       "      <td>308.0</td>\n",
       "      <td>275.0</td>\n",
       "    </tr>\n",
       "    <tr>\n",
       "      <th>2</th>\n",
       "      <td>306</td>\n",
       "      <td>79</td>\n",
       "      <td>77</td>\n",
       "      <td>78</td>\n",
       "      <td>72</td>\n",
       "      <td>174</td>\n",
       "      <td>132</td>\n",
       "      <td>300.0</td>\n",
       "      <td>305.0</td>\n",
       "      <td>308.0</td>\n",
       "    </tr>\n",
       "    <tr>\n",
       "      <th>3</th>\n",
       "      <td>284</td>\n",
       "      <td>73</td>\n",
       "      <td>60</td>\n",
       "      <td>75</td>\n",
       "      <td>76</td>\n",
       "      <td>144</td>\n",
       "      <td>140</td>\n",
       "      <td>306.0</td>\n",
       "      <td>300.0</td>\n",
       "      <td>305.0</td>\n",
       "    </tr>\n",
       "    <tr>\n",
       "      <th>4</th>\n",
       "      <td>308</td>\n",
       "      <td>79</td>\n",
       "      <td>72</td>\n",
       "      <td>87</td>\n",
       "      <td>70</td>\n",
       "      <td>168</td>\n",
       "      <td>140</td>\n",
       "      <td>284.0</td>\n",
       "      <td>306.0</td>\n",
       "      <td>300.0</td>\n",
       "    </tr>\n",
       "  </tbody>\n",
       "</table>\n",
       "</div>"
      ],
      "text/plain": [
       "   Emergency  ('Emergency', 'A')  ('Emergency', 'AB')  ('Emergency', 'B')  \\\n",
       "0        305                  81                   77                  72   \n",
       "1        300                  73                   71                  83   \n",
       "2        306                  79                   77                  78   \n",
       "3        284                  73                   60                  75   \n",
       "4        308                  79                   72                  87   \n",
       "\n",
       "   ('Emergency', 'O')  ('Emergency', 'Female')  ('Emergency', 'Male')  \\\n",
       "0                  75                      157                    148   \n",
       "1                  73                      140                    160   \n",
       "2                  72                      174                    132   \n",
       "3                  76                      144                    140   \n",
       "4                  70                      168                    140   \n",
       "\n",
       "   Emergency_Lag_1  Emergency_Lag_2  Emergency_Lag_3  \n",
       "0            308.0            275.0            224.0  \n",
       "1            305.0            308.0            275.0  \n",
       "2            300.0            305.0            308.0  \n",
       "3            306.0            300.0            305.0  \n",
       "4            284.0            306.0            300.0  "
      ]
     },
     "execution_count": 15,
     "metadata": {},
     "output_type": "execute_result"
    }
   ],
   "source": [
    "path = \"C:\\\\Users\\\\Republic Of Gamers\\\\OneDrive\\\\Documents\\\\GitHub\\\\TSDN-BoyWithLuv\\\\Source\\\\Data\\\\sdm_emergency_monthly.csv\"\n",
    "path2 = \"C:\\\\Users\\\\Republic Of Gamers\\\\OneDrive\\\\Documents\\\\GitHub\\\\TSDN-BoyWithLuv\\\\Source\\\\Data\\\\sdm_emergency_monthly_gender_only.csv\"\n",
    "path3 = \"C:\\\\Users\\\\Republic Of Gamers\\\\OneDrive\\\\Documents\\\\GitHub\\\\TSDN-BoyWithLuv\\\\Source\\\\Data\\\\sdm_emergency_monthly_gender_RhFactor.csv\"\n",
    "emergency_df = pd.read_csv(path)\n",
    "emergency_df.head()"
   ]
  },
  {
   "cell_type": "code",
   "execution_count": 4,
   "metadata": {},
   "outputs": [
    {
     "data": {
      "text/html": [
       "<div>\n",
       "<style scoped>\n",
       "    .dataframe tbody tr th:only-of-type {\n",
       "        vertical-align: middle;\n",
       "    }\n",
       "\n",
       "    .dataframe tbody tr th {\n",
       "        vertical-align: top;\n",
       "    }\n",
       "\n",
       "    .dataframe thead th {\n",
       "        text-align: right;\n",
       "    }\n",
       "</style>\n",
       "<table border=\"1\" class=\"dataframe\">\n",
       "  <thead>\n",
       "    <tr style=\"text-align: right;\">\n",
       "      <th></th>\n",
       "      <th>Emergency</th>\n",
       "      <th>('Emergency', 'Female')</th>\n",
       "      <th>('Emergency', 'Male')</th>\n",
       "      <th>Emergency_Lag_1</th>\n",
       "      <th>Emergency_Lag_2</th>\n",
       "      <th>Emergency_Lag_3</th>\n",
       "    </tr>\n",
       "  </thead>\n",
       "  <tbody>\n",
       "    <tr>\n",
       "      <th>0</th>\n",
       "      <td>305</td>\n",
       "      <td>157</td>\n",
       "      <td>148</td>\n",
       "      <td>308.0</td>\n",
       "      <td>275.0</td>\n",
       "      <td>224.0</td>\n",
       "    </tr>\n",
       "    <tr>\n",
       "      <th>1</th>\n",
       "      <td>300</td>\n",
       "      <td>140</td>\n",
       "      <td>160</td>\n",
       "      <td>305.0</td>\n",
       "      <td>308.0</td>\n",
       "      <td>275.0</td>\n",
       "    </tr>\n",
       "    <tr>\n",
       "      <th>2</th>\n",
       "      <td>306</td>\n",
       "      <td>174</td>\n",
       "      <td>132</td>\n",
       "      <td>300.0</td>\n",
       "      <td>305.0</td>\n",
       "      <td>308.0</td>\n",
       "    </tr>\n",
       "    <tr>\n",
       "      <th>3</th>\n",
       "      <td>284</td>\n",
       "      <td>144</td>\n",
       "      <td>140</td>\n",
       "      <td>306.0</td>\n",
       "      <td>300.0</td>\n",
       "      <td>305.0</td>\n",
       "    </tr>\n",
       "    <tr>\n",
       "      <th>4</th>\n",
       "      <td>308</td>\n",
       "      <td>168</td>\n",
       "      <td>140</td>\n",
       "      <td>284.0</td>\n",
       "      <td>306.0</td>\n",
       "      <td>300.0</td>\n",
       "    </tr>\n",
       "  </tbody>\n",
       "</table>\n",
       "</div>"
      ],
      "text/plain": [
       "   Emergency  ('Emergency', 'Female')  ('Emergency', 'Male')  Emergency_Lag_1  \\\n",
       "0        305                      157                    148            308.0   \n",
       "1        300                      140                    160            305.0   \n",
       "2        306                      174                    132            300.0   \n",
       "3        284                      144                    140            306.0   \n",
       "4        308                      168                    140            284.0   \n",
       "\n",
       "   Emergency_Lag_2  Emergency_Lag_3  \n",
       "0            275.0            224.0  \n",
       "1            308.0            275.0  \n",
       "2            305.0            308.0  \n",
       "3            300.0            305.0  \n",
       "4            306.0            300.0  "
      ]
     },
     "execution_count": 4,
     "metadata": {},
     "output_type": "execute_result"
    }
   ],
   "source": [
    "emergency_df_gender = pd.read_csv(path2)\n",
    "emergency_df_gender.head()"
   ]
  },
  {
   "cell_type": "code",
   "execution_count": 16,
   "metadata": {},
   "outputs": [
    {
     "data": {
      "text/html": [
       "<div>\n",
       "<style scoped>\n",
       "    .dataframe tbody tr th:only-of-type {\n",
       "        vertical-align: middle;\n",
       "    }\n",
       "\n",
       "    .dataframe tbody tr th {\n",
       "        vertical-align: top;\n",
       "    }\n",
       "\n",
       "    .dataframe thead th {\n",
       "        text-align: right;\n",
       "    }\n",
       "</style>\n",
       "<table border=\"1\" class=\"dataframe\">\n",
       "  <thead>\n",
       "    <tr style=\"text-align: right;\">\n",
       "      <th></th>\n",
       "      <th>Emergency</th>\n",
       "      <th>('Emergency', '+')</th>\n",
       "      <th>('Emergency', '-')</th>\n",
       "      <th>('Emergency', 'Female')</th>\n",
       "      <th>('Emergency', 'Male')</th>\n",
       "      <th>Emergency_Lag_1</th>\n",
       "      <th>Emergency_Lag_2</th>\n",
       "      <th>Emergency_Lag_3</th>\n",
       "    </tr>\n",
       "  </thead>\n",
       "  <tbody>\n",
       "    <tr>\n",
       "      <th>0</th>\n",
       "      <td>305</td>\n",
       "      <td>147</td>\n",
       "      <td>158</td>\n",
       "      <td>157</td>\n",
       "      <td>148</td>\n",
       "      <td>308.0</td>\n",
       "      <td>275.0</td>\n",
       "      <td>224.0</td>\n",
       "    </tr>\n",
       "    <tr>\n",
       "      <th>1</th>\n",
       "      <td>300</td>\n",
       "      <td>151</td>\n",
       "      <td>149</td>\n",
       "      <td>140</td>\n",
       "      <td>160</td>\n",
       "      <td>305.0</td>\n",
       "      <td>308.0</td>\n",
       "      <td>275.0</td>\n",
       "    </tr>\n",
       "    <tr>\n",
       "      <th>2</th>\n",
       "      <td>306</td>\n",
       "      <td>159</td>\n",
       "      <td>147</td>\n",
       "      <td>174</td>\n",
       "      <td>132</td>\n",
       "      <td>300.0</td>\n",
       "      <td>305.0</td>\n",
       "      <td>308.0</td>\n",
       "    </tr>\n",
       "    <tr>\n",
       "      <th>3</th>\n",
       "      <td>284</td>\n",
       "      <td>144</td>\n",
       "      <td>140</td>\n",
       "      <td>144</td>\n",
       "      <td>140</td>\n",
       "      <td>306.0</td>\n",
       "      <td>300.0</td>\n",
       "      <td>305.0</td>\n",
       "    </tr>\n",
       "    <tr>\n",
       "      <th>4</th>\n",
       "      <td>308</td>\n",
       "      <td>151</td>\n",
       "      <td>157</td>\n",
       "      <td>168</td>\n",
       "      <td>140</td>\n",
       "      <td>284.0</td>\n",
       "      <td>306.0</td>\n",
       "      <td>300.0</td>\n",
       "    </tr>\n",
       "  </tbody>\n",
       "</table>\n",
       "</div>"
      ],
      "text/plain": [
       "   Emergency  ('Emergency', '+')  ('Emergency', '-')  ('Emergency', 'Female')  \\\n",
       "0        305                 147                 158                      157   \n",
       "1        300                 151                 149                      140   \n",
       "2        306                 159                 147                      174   \n",
       "3        284                 144                 140                      144   \n",
       "4        308                 151                 157                      168   \n",
       "\n",
       "   ('Emergency', 'Male')  Emergency_Lag_1  Emergency_Lag_2  Emergency_Lag_3  \n",
       "0                    148            308.0            275.0            224.0  \n",
       "1                    160            305.0            308.0            275.0  \n",
       "2                    132            300.0            305.0            308.0  \n",
       "3                    140            306.0            300.0            305.0  \n",
       "4                    140            284.0            306.0            300.0  "
      ]
     },
     "execution_count": 16,
     "metadata": {},
     "output_type": "execute_result"
    }
   ],
   "source": [
    "emergency_df_gender_rhfactor = pd.read_csv(path3)\n",
    "emergency_df_gender_rhfactor.head()"
   ]
  },
  {
   "cell_type": "code",
   "execution_count": 5,
   "metadata": {},
   "outputs": [
    {
     "name": "stdout",
     "output_type": "stream",
     "text": [
      "<class 'pandas.core.frame.DataFrame'>\n",
      "RangeIndex: 58 entries, 0 to 57\n",
      "Data columns (total 10 columns):\n",
      " #   Column                   Non-Null Count  Dtype  \n",
      "---  ------                   --------------  -----  \n",
      " 0   Emergency                58 non-null     int64  \n",
      " 1   ('Emergency', 'A')       58 non-null     int64  \n",
      " 2   ('Emergency', 'AB')      58 non-null     int64  \n",
      " 3   ('Emergency', 'B')       58 non-null     int64  \n",
      " 4   ('Emergency', 'O')       58 non-null     int64  \n",
      " 5   ('Emergency', 'Female')  58 non-null     int64  \n",
      " 6   ('Emergency', 'Male')    58 non-null     int64  \n",
      " 7   Emergency_Lag_1          58 non-null     float64\n",
      " 8   Emergency_Lag_2          58 non-null     float64\n",
      " 9   Emergency_Lag_3          58 non-null     float64\n",
      "dtypes: float64(3), int64(7)\n",
      "memory usage: 4.7 KB\n"
     ]
    }
   ],
   "source": [
    "emergency_df.info()"
   ]
  },
  {
   "cell_type": "code",
   "execution_count": 5,
   "metadata": {},
   "outputs": [
    {
     "name": "stdout",
     "output_type": "stream",
     "text": [
      "<class 'pandas.core.frame.DataFrame'>\n",
      "RangeIndex: 58 entries, 0 to 57\n",
      "Data columns (total 6 columns):\n",
      " #   Column                   Non-Null Count  Dtype  \n",
      "---  ------                   --------------  -----  \n",
      " 0   Emergency                58 non-null     int64  \n",
      " 1   ('Emergency', 'Female')  58 non-null     int64  \n",
      " 2   ('Emergency', 'Male')    58 non-null     int64  \n",
      " 3   Emergency_Lag_1          58 non-null     float64\n",
      " 4   Emergency_Lag_2          58 non-null     float64\n",
      " 5   Emergency_Lag_3          58 non-null     float64\n",
      "dtypes: float64(3), int64(3)\n",
      "memory usage: 2.8 KB\n"
     ]
    }
   ],
   "source": [
    "emergency_df_gender.info()"
   ]
  },
  {
   "cell_type": "code",
   "execution_count": 17,
   "metadata": {},
   "outputs": [
    {
     "name": "stdout",
     "output_type": "stream",
     "text": [
      "<class 'pandas.core.frame.DataFrame'>\n",
      "RangeIndex: 58 entries, 0 to 57\n",
      "Data columns (total 8 columns):\n",
      " #   Column                   Non-Null Count  Dtype  \n",
      "---  ------                   --------------  -----  \n",
      " 0   Emergency                58 non-null     int64  \n",
      " 1   ('Emergency', '+')       58 non-null     int64  \n",
      " 2   ('Emergency', '-')       58 non-null     int64  \n",
      " 3   ('Emergency', 'Female')  58 non-null     int64  \n",
      " 4   ('Emergency', 'Male')    58 non-null     int64  \n",
      " 5   Emergency_Lag_1          58 non-null     float64\n",
      " 6   Emergency_Lag_2          58 non-null     float64\n",
      " 7   Emergency_Lag_3          58 non-null     float64\n",
      "dtypes: float64(3), int64(5)\n",
      "memory usage: 3.8 KB\n"
     ]
    }
   ],
   "source": [
    "emergency_df_gender_rhfactor.info()"
   ]
  },
  {
   "cell_type": "code",
   "execution_count": 6,
   "metadata": {},
   "outputs": [],
   "source": [
    "trainEmergencySize = int(len(emergency_df) * 0.7)\n",
    "trainEmergency, testEmergency= emergency_df[:trainEmergencySize], emergency_df[trainEmergencySize:]"
   ]
  },
  {
   "cell_type": "code",
   "execution_count": 6,
   "metadata": {},
   "outputs": [],
   "source": [
    "trainEmergencySizeGender = int(len(emergency_df_gender) * 0.7)\n",
    "trainEmergencyGender, testEmergencyGender= emergency_df_gender[:trainEmergencySizeGender], emergency_df_gender[trainEmergencySizeGender:]"
   ]
  },
  {
   "cell_type": "code",
   "execution_count": 18,
   "metadata": {},
   "outputs": [],
   "source": [
    "trainEmergencySizeGenderRhFactor = int(len(emergency_df_gender_rhfactor) * 0.7)\n",
    "trainEmergencyGenderRhFactor, testEmergencyGenderRhFactor= emergency_df_gender_rhfactor[:trainEmergencySizeGenderRhFactor], emergency_df_gender_rhfactor[trainEmergencySizeGenderRhFactor:]"
   ]
  },
  {
   "cell_type": "code",
   "execution_count": 8,
   "metadata": {},
   "outputs": [],
   "source": [
    "X_train = trainEmergency.drop(columns=['Emergency'])\n",
    "y_train = trainEmergency['Emergency']\n",
    "X_test = testEmergency.drop(columns=['Emergency'])\n",
    "y_test = testEmergency['Emergency']\n",
    "X_train.columns = X_train.columns.astype(str)\n",
    "X_test.columns = X_test.columns.astype(str)"
   ]
  },
  {
   "cell_type": "code",
   "execution_count": 7,
   "metadata": {},
   "outputs": [],
   "source": [
    "X_train = trainEmergencyGender.drop(columns=['Emergency'])\n",
    "y_train = trainEmergencyGender['Emergency']\n",
    "X_test = testEmergencyGender.drop(columns=['Emergency'])\n",
    "y_test = testEmergencyGender['Emergency']\n",
    "X_train.columns = X_train.columns.astype(str)\n",
    "X_test.columns = X_test.columns.astype(str)"
   ]
  },
  {
   "cell_type": "code",
   "execution_count": 21,
   "metadata": {},
   "outputs": [],
   "source": [
    "X_train = trainEmergencyGenderRhFactor.drop(columns=['Emergency'])\n",
    "y_train = trainEmergencyGenderRhFactor['Emergency']\n",
    "X_test = testEmergencyGenderRhFactor.drop(columns=['Emergency'])\n",
    "y_test = testEmergencyGenderRhFactor['Emergency']\n",
    "X_train.columns = X_train.columns.astype(str)\n",
    "X_test.columns = X_test.columns.astype(str)"
   ]
  },
  {
   "cell_type": "code",
   "execution_count": 8,
   "metadata": {},
   "outputs": [
    {
     "name": "stdout",
     "output_type": "stream",
     "text": [
      "Fitting 3 folds for each of 36 candidates, totalling 108 fits\n",
      "Best parameters found:  {'max_depth': None, 'min_samples_split': 2, 'n_estimators': 100}\n"
     ]
    }
   ],
   "source": [
    "# Define the parameter grid\n",
    "param_grid = {\n",
    "    'n_estimators': [100, 200, 300],\n",
    "    'max_depth': [None, 10, 20, 30],\n",
    "    'min_samples_split': [2, 5, 10]\n",
    "}\n",
    "\n",
    "# Initialize the model\n",
    "rf = RandomForestRegressor()\n",
    "\n",
    "# Set up GridSearchCV\n",
    "grid_search = GridSearchCV(estimator=rf, param_grid=param_grid, cv=3, scoring='neg_mean_squared_error', n_jobs=-1, verbose=2)\n",
    "\n",
    "# Fit to the data\n",
    "grid_search.fit(X_train, y_train)\n",
    "\n",
    "# Best parameters\n",
    "print(\"Best parameters found: \", grid_search.best_params_)\n"
   ]
  },
  {
   "cell_type": "code",
   "execution_count": 9,
   "metadata": {},
   "outputs": [
    {
     "name": "stdout",
     "output_type": "stream",
     "text": [
      "[297.29 314.36 295.34 322.63 304.88 312.97 309.66 292.14 309.27 305.78\n",
      " 307.52 300.73 311.33 289.92 304.3  296.51 321.01 274.44]\n"
     ]
    }
   ],
   "source": [
    "# Extract the best parameters from the grid search\n",
    "best_params = grid_search.best_params_\n",
    "\n",
    "# Initialize the RandomForestRegressor with the best parameters\n",
    "best_rf = RandomForestRegressor(**best_params)\n",
    "\n",
    "# Fit the model to the full training data\n",
    "best_rf.fit(X_train, y_train)\n",
    "\n",
    "# Make predictions on the test set or future data\n",
    "y_pred = best_rf.predict(X_test)\n",
    "\n",
    "# Display predictions\n",
    "print(y_pred)"
   ]
  },
  {
   "cell_type": "code",
   "execution_count": 10,
   "metadata": {},
   "outputs": [
    {
     "name": "stdout",
     "output_type": "stream",
     "text": [
      "Root Mean Squared Error (RMSE): 49.83283188153502\n",
      "Mean Absolute Error (MAE): 15.442222222222215\n",
      "R-squared (R²): 0.22258860482103715\n"
     ]
    }
   ],
   "source": [
    "# Calculate RMSE\n",
    "rmse = np.sqrt(mean_squared_error(y_test, y_pred))\n",
    "\n",
    "# Calculate MAE\n",
    "mae = mean_absolute_error(y_test, y_pred)\n",
    "\n",
    "# Calculate R-squared\n",
    "r2 = r2_score(y_test, y_pred)\n",
    "\n",
    "# Display the metrics\n",
    "print(\"Root Mean Squared Error (RMSE):\", rmse)\n",
    "print(\"Mean Absolute Error (MAE):\", mae)\n",
    "print(\"R-squared (R²):\", r2)"
   ]
  },
  {
   "cell_type": "markdown",
   "metadata": {},
   "source": [
    "RhFactor and Gender RF"
   ]
  },
  {
   "cell_type": "code",
   "execution_count": 22,
   "metadata": {},
   "outputs": [
    {
     "name": "stdout",
     "output_type": "stream",
     "text": [
      "Fitting 3 folds for each of 36 candidates, totalling 108 fits\n",
      "Best parameters found:  {'max_depth': 10, 'min_samples_split': 2, 'n_estimators': 100}\n"
     ]
    }
   ],
   "source": [
    "#RhFactor and Ge\n",
    "# Define the parameter grid\n",
    "param_grid = {\n",
    "    'n_estimators': [100, 200, 300],\n",
    "    'max_depth': [None, 10, 20, 30],\n",
    "    'min_samples_split': [2, 5, 10]\n",
    "}\n",
    "\n",
    "# Initialize the model\n",
    "rf = RandomForestRegressor()\n",
    "\n",
    "# Set up GridSearchCV\n",
    "grid_search = GridSearchCV(estimator=rf, param_grid=param_grid, cv=3, scoring='neg_mean_squared_error', n_jobs=-1, verbose=2)\n",
    "\n",
    "# Fit to the data\n",
    "grid_search.fit(X_train, y_train)\n",
    "\n",
    "# Best parameters\n",
    "print(\"Best parameters found: \", grid_search.best_params_)\n"
   ]
  },
  {
   "cell_type": "code",
   "execution_count": 23,
   "metadata": {},
   "outputs": [
    {
     "name": "stdout",
     "output_type": "stream",
     "text": [
      "[296.52333333 315.66333333 294.86333333 314.94833333 304.94333333\n",
      " 313.45833333 310.54333333 296.5        308.20833333 302.58\n",
      " 308.93166667 296.11       308.24166667 290.27       303.97166667\n",
      " 295.27       323.45       276.19      ]\n"
     ]
    }
   ],
   "source": [
    "# Extract the best parameters from the grid search\n",
    "best_params = grid_search.best_params_\n",
    "\n",
    "# Initialize the RandomForestRegressor with the best parameters\n",
    "best_rf = RandomForestRegressor(**best_params)\n",
    "\n",
    "# Fit the model to the full training data\n",
    "best_rf.fit(X_train, y_train)\n",
    "\n",
    "# Make predictions on the test set or future data\n",
    "y_pred = best_rf.predict(X_test)\n",
    "\n",
    "# Display predictions\n",
    "print(y_pred)"
   ]
  },
  {
   "cell_type": "code",
   "execution_count": 24,
   "metadata": {},
   "outputs": [
    {
     "name": "stdout",
     "output_type": "stream",
     "text": [
      "Root Mean Squared Error (RMSE): 50.25863878509708\n",
      "Mean Absolute Error (MAE): 15.482777777777772\n",
      "R-squared (R²): 0.20924634064566483\n"
     ]
    }
   ],
   "source": [
    "# Calculate RMSE\n",
    "rmse = np.sqrt(mean_squared_error(y_test, y_pred))\n",
    "\n",
    "# Calculate MAE\n",
    "mae = mean_absolute_error(y_test, y_pred)\n",
    "\n",
    "# Calculate R-squared\n",
    "r2 = r2_score(y_test, y_pred)\n",
    "\n",
    "# Display the metrics\n",
    "print(\"Root Mean Squared Error (RMSE):\", rmse)\n",
    "print(\"Mean Absolute Error (MAE):\", mae)\n",
    "print(\"R-squared (R²):\", r2)"
   ]
  },
  {
   "cell_type": "code",
   "execution_count": 11,
   "metadata": {},
   "outputs": [
    {
     "name": "stdout",
     "output_type": "stream",
     "text": [
      "Fitting 3 folds for each of 36 candidates, totalling 108 fits\n",
      "Best parameters found:  {'max_depth': None, 'min_samples_split': 2, 'n_estimators': 100}\n"
     ]
    },
    {
     "name": "stderr",
     "output_type": "stream",
     "text": [
      "c:\\Users\\Republic Of Gamers\\AppData\\Local\\Programs\\Python\\Python39\\lib\\site-packages\\xgboost\\core.py:160: UserWarning: [22:24:45] WARNING: C:\\buildkite-agent\\builds\\buildkite-windows-cpu-autoscaling-group-i-0b3782d1791676daf-1\\xgboost\\xgboost-ci-windows\\src\\learner.cc:742: \n",
      "Parameters: { \"min_samples_split\" } are not used.\n",
      "\n",
      "  warnings.warn(smsg, UserWarning)\n"
     ]
    }
   ],
   "source": [
    "param_grid = {\n",
    "    'n_estimators': [100, 200, 300],\n",
    "    'max_depth': [None, 10, 20, 30],\n",
    "    'min_samples_split': [2, 5, 10]\n",
    "}\n",
    "xgb_model = XGBRegressor()\n",
    "\n",
    "# Set up GridSearchCV\n",
    "grid_search = GridSearchCV(estimator=xgb_model, param_grid=param_grid, cv=3, scoring='neg_mean_squared_error', n_jobs=-1, verbose=2)\n",
    "\n",
    "# Fit to the data\n",
    "grid_search.fit(X_train, y_train)\n",
    "\n",
    "# Best parameters\n",
    "print(\"Best parameters found: \", grid_search.best_params_)"
   ]
  },
  {
   "cell_type": "code",
   "execution_count": 12,
   "metadata": {},
   "outputs": [
    {
     "name": "stdout",
     "output_type": "stream",
     "text": [
      "Predictions: [295.4704  316.57498 294.72906 307.71524 304.33252 328.97305 312.1603\n",
      " 291.84128 310.16037 303.05353 310.93164 299.4369  308.61447 290.1091\n",
      " 307.13437 297.8799  328.9711  270.00443]\n"
     ]
    },
    {
     "name": "stderr",
     "output_type": "stream",
     "text": [
      "c:\\Users\\Republic Of Gamers\\AppData\\Local\\Programs\\Python\\Python39\\lib\\site-packages\\xgboost\\core.py:160: UserWarning: [22:24:49] WARNING: C:\\buildkite-agent\\builds\\buildkite-windows-cpu-autoscaling-group-i-0b3782d1791676daf-1\\xgboost\\xgboost-ci-windows\\src\\learner.cc:742: \n",
      "Parameters: { \"min_samples_split\" } are not used.\n",
      "\n",
      "  warnings.warn(smsg, UserWarning)\n"
     ]
    }
   ],
   "source": [
    "# Extract the best parameters from the grid search\n",
    "best_params = grid_search.best_params_\n",
    "\n",
    "# Initialize the XGBRegressor with the best parameters\n",
    "best_xgb = XGBRegressor(**best_params)\n",
    "\n",
    "# Fit the model to the full training data\n",
    "best_xgb.fit(X_train, y_train)\n",
    "\n",
    "# Make predictions on the test set or future data\n",
    "y_pred = best_xgb.predict(X_test)\n",
    "\n",
    "# Display predictions\n",
    "print(\"Predictions:\", y_pred)"
   ]
  },
  {
   "cell_type": "code",
   "execution_count": 13,
   "metadata": {},
   "outputs": [
    {
     "name": "stdout",
     "output_type": "stream",
     "text": [
      "Root Mean Squared Error (RMSE): 48.935411262582285\n",
      "Mean Absolute Error (MAE): 15.685889350043404\n",
      "R-squared (R²): 0.2503367066383362\n"
     ]
    }
   ],
   "source": [
    "# Calculate RMSE\n",
    "rmse = np.sqrt(mean_squared_error(y_test, y_pred))\n",
    "\n",
    "# Calculate MAE\n",
    "mae = mean_absolute_error(y_test, y_pred)\n",
    "\n",
    "# Calculate R-squared\n",
    "r2 = r2_score(y_test, y_pred)\n",
    "\n",
    "# Display the metrics\n",
    "print(\"Root Mean Squared Error (RMSE):\", rmse)\n",
    "print(\"Mean Absolute Error (MAE):\", mae)\n",
    "print(\"R-squared (R²):\", r2)"
   ]
  },
  {
   "cell_type": "markdown",
   "metadata": {},
   "source": [
    "RhFactor and Gender"
   ]
  },
  {
   "cell_type": "code",
   "execution_count": 25,
   "metadata": {},
   "outputs": [
    {
     "name": "stdout",
     "output_type": "stream",
     "text": [
      "Fitting 3 folds for each of 36 candidates, totalling 108 fits\n",
      "Best parameters found:  {'max_depth': 10, 'min_samples_split': 2, 'n_estimators': 100}\n"
     ]
    },
    {
     "name": "stderr",
     "output_type": "stream",
     "text": [
      "c:\\Users\\Republic Of Gamers\\AppData\\Local\\Programs\\Python\\Python39\\lib\\site-packages\\xgboost\\core.py:160: UserWarning: [23:04:27] WARNING: C:\\buildkite-agent\\builds\\buildkite-windows-cpu-autoscaling-group-i-0b3782d1791676daf-1\\xgboost\\xgboost-ci-windows\\src\\learner.cc:742: \n",
      "Parameters: { \"min_samples_split\" } are not used.\n",
      "\n",
      "  warnings.warn(smsg, UserWarning)\n"
     ]
    }
   ],
   "source": [
    "param_grid = {\n",
    "    'n_estimators': [100, 200, 300],\n",
    "    'max_depth': [None, 10, 20, 30],\n",
    "    'min_samples_split': [2, 5, 10]\n",
    "}\n",
    "xgb_model = XGBRegressor()\n",
    "\n",
    "# Set up GridSearchCV\n",
    "grid_search = GridSearchCV(estimator=xgb_model, param_grid=param_grid, cv=3, scoring='neg_mean_squared_error', n_jobs=-1, verbose=2)\n",
    "\n",
    "# Fit to the data\n",
    "grid_search.fit(X_train, y_train)\n",
    "\n",
    "# Best parameters\n",
    "print(\"Best parameters found: \", grid_search.best_params_)"
   ]
  },
  {
   "cell_type": "code",
   "execution_count": 26,
   "metadata": {},
   "outputs": [
    {
     "name": "stdout",
     "output_type": "stream",
     "text": [
      "Predictions: [293.51028 311.71014 291.4862  306.1702  300.69055 324.62357 312.84024\n",
      " 296.64117 309.89227 304.76337 310.27762 292.06677 311.92944 289.99612\n",
      " 307.31836 298.46628 335.54422 271.13834]\n"
     ]
    },
    {
     "name": "stderr",
     "output_type": "stream",
     "text": [
      "c:\\Users\\Republic Of Gamers\\AppData\\Local\\Programs\\Python\\Python39\\lib\\site-packages\\xgboost\\core.py:160: UserWarning: [23:04:29] WARNING: C:\\buildkite-agent\\builds\\buildkite-windows-cpu-autoscaling-group-i-0b3782d1791676daf-1\\xgboost\\xgboost-ci-windows\\src\\learner.cc:742: \n",
      "Parameters: { \"min_samples_split\" } are not used.\n",
      "\n",
      "  warnings.warn(smsg, UserWarning)\n"
     ]
    }
   ],
   "source": [
    "# Extract the best parameters from the grid search\n",
    "best_params = grid_search.best_params_\n",
    "\n",
    "# Initialize the XGBRegressor with the best parameters\n",
    "best_xgb = XGBRegressor(**best_params)\n",
    "\n",
    "# Fit the model to the full training data\n",
    "best_xgb.fit(X_train, y_train)\n",
    "\n",
    "# Make predictions on the test set or future data\n",
    "y_pred = best_xgb.predict(X_test)\n",
    "\n",
    "# Display predictions\n",
    "print(\"Predictions:\", y_pred)"
   ]
  },
  {
   "cell_type": "code",
   "execution_count": 27,
   "metadata": {},
   "outputs": [
    {
     "name": "stdout",
     "output_type": "stream",
     "text": [
      "Root Mean Squared Error (RMSE): 49.335912471370925\n",
      "Mean Absolute Error (MAE): 16.731548733181423\n",
      "R-squared (R²): 0.23801559209823608\n"
     ]
    }
   ],
   "source": [
    "# Calculate RMSE\n",
    "rmse = np.sqrt(mean_squared_error(y_test, y_pred))\n",
    "\n",
    "# Calculate MAE\n",
    "mae = mean_absolute_error(y_test, y_pred)\n",
    "\n",
    "# Calculate R-squared\n",
    "r2 = r2_score(y_test, y_pred)\n",
    "\n",
    "# Display the metrics\n",
    "print(\"Root Mean Squared Error (RMSE):\", rmse)\n",
    "print(\"Mean Absolute Error (MAE):\", mae)\n",
    "print(\"R-squared (R²):\", r2)"
   ]
  }
 ],
 "metadata": {
  "kernelspec": {
   "display_name": "Python 3",
   "language": "python",
   "name": "python3"
  },
  "language_info": {
   "codemirror_mode": {
    "name": "ipython",
    "version": 3
   },
   "file_extension": ".py",
   "mimetype": "text/x-python",
   "name": "python",
   "nbconvert_exporter": "python",
   "pygments_lexer": "ipython3",
   "version": "3.9.6"
  }
 },
 "nbformat": 4,
 "nbformat_minor": 2
}
