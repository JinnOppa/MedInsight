{
 "cells": [
  {
   "cell_type": "code",
   "execution_count": 1,
   "metadata": {},
   "outputs": [],
   "source": [
    "import pandas as pd\n",
    "import matplotlib.pyplot as plt\n",
    "import numpy as np\n",
    "import seaborn as sns\n",
    "from sklearn.model_selection import GridSearchCV\n",
    "from xgboost import XGBRegressor\n",
    "from sklearn.ensemble import RandomForestRegressor\n",
    "from sklearn.metrics import mean_absolute_error, mean_squared_error, r2_score\n"
   ]
  },
  {
   "cell_type": "code",
   "execution_count": 4,
   "metadata": {},
   "outputs": [
    {
     "data": {
      "text/html": [
       "<div>\n",
       "<style scoped>\n",
       "    .dataframe tbody tr th:only-of-type {\n",
       "        vertical-align: middle;\n",
       "    }\n",
       "\n",
       "    .dataframe tbody tr th {\n",
       "        vertical-align: top;\n",
       "    }\n",
       "\n",
       "    .dataframe thead th {\n",
       "        text-align: right;\n",
       "    }\n",
       "</style>\n",
       "<table border=\"1\" class=\"dataframe\">\n",
       "  <thead>\n",
       "    <tr style=\"text-align: right;\">\n",
       "      <th></th>\n",
       "      <th>Emergency</th>\n",
       "      <th>('Emergency', 'A')</th>\n",
       "      <th>('Emergency', 'AB')</th>\n",
       "      <th>('Emergency', 'B')</th>\n",
       "      <th>('Emergency', 'O')</th>\n",
       "      <th>('Emergency', 'Female')</th>\n",
       "      <th>('Emergency', 'Male')</th>\n",
       "      <th>Emergency_Lag_1</th>\n",
       "      <th>Emergency_Lag_2</th>\n",
       "      <th>Emergency_Lag_3</th>\n",
       "    </tr>\n",
       "  </thead>\n",
       "  <tbody>\n",
       "    <tr>\n",
       "      <th>0</th>\n",
       "      <td>305</td>\n",
       "      <td>81</td>\n",
       "      <td>77</td>\n",
       "      <td>72</td>\n",
       "      <td>75</td>\n",
       "      <td>157</td>\n",
       "      <td>148</td>\n",
       "      <td>308.0</td>\n",
       "      <td>275.0</td>\n",
       "      <td>224.0</td>\n",
       "    </tr>\n",
       "    <tr>\n",
       "      <th>1</th>\n",
       "      <td>300</td>\n",
       "      <td>73</td>\n",
       "      <td>71</td>\n",
       "      <td>83</td>\n",
       "      <td>73</td>\n",
       "      <td>140</td>\n",
       "      <td>160</td>\n",
       "      <td>305.0</td>\n",
       "      <td>308.0</td>\n",
       "      <td>275.0</td>\n",
       "    </tr>\n",
       "    <tr>\n",
       "      <th>2</th>\n",
       "      <td>306</td>\n",
       "      <td>79</td>\n",
       "      <td>77</td>\n",
       "      <td>78</td>\n",
       "      <td>72</td>\n",
       "      <td>174</td>\n",
       "      <td>132</td>\n",
       "      <td>300.0</td>\n",
       "      <td>305.0</td>\n",
       "      <td>308.0</td>\n",
       "    </tr>\n",
       "    <tr>\n",
       "      <th>3</th>\n",
       "      <td>284</td>\n",
       "      <td>73</td>\n",
       "      <td>60</td>\n",
       "      <td>75</td>\n",
       "      <td>76</td>\n",
       "      <td>144</td>\n",
       "      <td>140</td>\n",
       "      <td>306.0</td>\n",
       "      <td>300.0</td>\n",
       "      <td>305.0</td>\n",
       "    </tr>\n",
       "    <tr>\n",
       "      <th>4</th>\n",
       "      <td>308</td>\n",
       "      <td>79</td>\n",
       "      <td>72</td>\n",
       "      <td>87</td>\n",
       "      <td>70</td>\n",
       "      <td>168</td>\n",
       "      <td>140</td>\n",
       "      <td>284.0</td>\n",
       "      <td>306.0</td>\n",
       "      <td>300.0</td>\n",
       "    </tr>\n",
       "  </tbody>\n",
       "</table>\n",
       "</div>"
      ],
      "text/plain": [
       "   Emergency  ('Emergency', 'A')  ('Emergency', 'AB')  ('Emergency', 'B')  \\\n",
       "0        305                  81                   77                  72   \n",
       "1        300                  73                   71                  83   \n",
       "2        306                  79                   77                  78   \n",
       "3        284                  73                   60                  75   \n",
       "4        308                  79                   72                  87   \n",
       "\n",
       "   ('Emergency', 'O')  ('Emergency', 'Female')  ('Emergency', 'Male')  \\\n",
       "0                  75                      157                    148   \n",
       "1                  73                      140                    160   \n",
       "2                  72                      174                    132   \n",
       "3                  76                      144                    140   \n",
       "4                  70                      168                    140   \n",
       "\n",
       "   Emergency_Lag_1  Emergency_Lag_2  Emergency_Lag_3  \n",
       "0            308.0            275.0            224.0  \n",
       "1            305.0            308.0            275.0  \n",
       "2            300.0            305.0            308.0  \n",
       "3            306.0            300.0            305.0  \n",
       "4            284.0            306.0            300.0  "
      ]
     },
     "execution_count": 4,
     "metadata": {},
     "output_type": "execute_result"
    }
   ],
   "source": [
    "path = \"C:\\\\Users\\\\Republic Of Gamers\\\\OneDrive\\\\Documents\\\\GitHub\\\\TSDN-BoyWithLuv\\\\Source\\\\Data\\\\sdm_emergency_monthly.csv\"\n",
    "emergency_df = pd.read_csv(path)\n",
    "emergency_df.head()"
   ]
  },
  {
   "cell_type": "code",
   "execution_count": 5,
   "metadata": {},
   "outputs": [
    {
     "name": "stdout",
     "output_type": "stream",
     "text": [
      "<class 'pandas.core.frame.DataFrame'>\n",
      "RangeIndex: 58 entries, 0 to 57\n",
      "Data columns (total 10 columns):\n",
      " #   Column                   Non-Null Count  Dtype  \n",
      "---  ------                   --------------  -----  \n",
      " 0   Emergency                58 non-null     int64  \n",
      " 1   ('Emergency', 'A')       58 non-null     int64  \n",
      " 2   ('Emergency', 'AB')      58 non-null     int64  \n",
      " 3   ('Emergency', 'B')       58 non-null     int64  \n",
      " 4   ('Emergency', 'O')       58 non-null     int64  \n",
      " 5   ('Emergency', 'Female')  58 non-null     int64  \n",
      " 6   ('Emergency', 'Male')    58 non-null     int64  \n",
      " 7   Emergency_Lag_1          58 non-null     float64\n",
      " 8   Emergency_Lag_2          58 non-null     float64\n",
      " 9   Emergency_Lag_3          58 non-null     float64\n",
      "dtypes: float64(3), int64(7)\n",
      "memory usage: 4.7 KB\n"
     ]
    }
   ],
   "source": [
    "emergency_df.info()"
   ]
  },
  {
   "cell_type": "code",
   "execution_count": 6,
   "metadata": {},
   "outputs": [],
   "source": [
    "trainEmergencySize = int(len(emergency_df) * 0.7)\n",
    "trainEmergency, testEmergency= emergency_df[:trainEmergencySize], emergency_df[trainEmergencySize:]"
   ]
  },
  {
   "cell_type": "code",
   "execution_count": 8,
   "metadata": {},
   "outputs": [],
   "source": [
    "X_train = trainEmergency.drop(columns=['Emergency'])\n",
    "y_train = trainEmergency['Emergency']\n",
    "X_test = testEmergency.drop(columns=['Emergency'])\n",
    "y_test = testEmergency['Emergency']\n",
    "X_train.columns = X_train.columns.astype(str)\n",
    "X_test.columns = X_test.columns.astype(str)"
   ]
  },
  {
   "cell_type": "code",
   "execution_count": 12,
   "metadata": {},
   "outputs": [
    {
     "name": "stdout",
     "output_type": "stream",
     "text": [
      "Fitting 3 folds for each of 36 candidates, totalling 108 fits\n",
      "Best parameters found:  {'max_depth': 20, 'min_samples_split': 2, 'n_estimators': 100}\n"
     ]
    }
   ],
   "source": [
    "# Define the parameter grid\n",
    "param_grid = {\n",
    "    'n_estimators': [100, 200, 300],\n",
    "    'max_depth': [None, 10, 20, 30],\n",
    "    'min_samples_split': [2, 5, 10]\n",
    "}\n",
    "\n",
    "# Initialize the model\n",
    "rf = RandomForestRegressor()\n",
    "\n",
    "# Set up GridSearchCV\n",
    "grid_search = GridSearchCV(estimator=rf, param_grid=param_grid, cv=3, scoring='neg_mean_squared_error', n_jobs=-1, verbose=2)\n",
    "\n",
    "# Fit to the data\n",
    "grid_search.fit(X_train, y_train)\n",
    "\n",
    "# Best parameters\n",
    "print(\"Best parameters found: \", grid_search.best_params_)\n"
   ]
  },
  {
   "cell_type": "code",
   "execution_count": 13,
   "metadata": {},
   "outputs": [
    {
     "name": "stdout",
     "output_type": "stream",
     "text": [
      "[295.44 312.88 300.61 313.94 307.31 309.76 309.27 296.78 307.5  306.19\n",
      " 311.9  299.49 311.57 291.32 304.22 295.47 321.16 275.13]\n"
     ]
    }
   ],
   "source": [
    "# Extract the best parameters from the grid search\n",
    "best_params = grid_search.best_params_\n",
    "\n",
    "# Initialize the RandomForestRegressor with the best parameters\n",
    "best_rf = RandomForestRegressor(**best_params)\n",
    "\n",
    "# Fit the model to the full training data\n",
    "best_rf.fit(X_train, y_train)\n",
    "\n",
    "# Make predictions on the test set or future data\n",
    "y_pred = best_rf.predict(X_test)\n",
    "\n",
    "# Display predictions\n",
    "print(y_pred)"
   ]
  },
  {
   "cell_type": "code",
   "execution_count": 14,
   "metadata": {},
   "outputs": [
    {
     "name": "stdout",
     "output_type": "stream",
     "text": [
      "Root Mean Squared Error (RMSE): 50.136731932674756\n",
      "Mean Absolute Error (MAE): 16.78666666666666\n",
      "R-squared (R²): 0.21307777661831717\n"
     ]
    }
   ],
   "source": [
    "# Calculate RMSE\n",
    "rmse = np.sqrt(mean_squared_error(y_test, y_pred))\n",
    "\n",
    "# Calculate MAE\n",
    "mae = mean_absolute_error(y_test, y_pred)\n",
    "\n",
    "# Calculate R-squared\n",
    "r2 = r2_score(y_test, y_pred)\n",
    "\n",
    "# Display the metrics\n",
    "print(\"Root Mean Squared Error (RMSE):\", rmse)\n",
    "print(\"Mean Absolute Error (MAE):\", mae)\n",
    "print(\"R-squared (R²):\", r2)"
   ]
  },
  {
   "cell_type": "code",
   "execution_count": 17,
   "metadata": {},
   "outputs": [
    {
     "name": "stdout",
     "output_type": "stream",
     "text": [
      "Fitting 3 folds for each of 36 candidates, totalling 108 fits\n",
      "Best parameters found:  {'max_depth': None, 'min_samples_split': 2, 'n_estimators': 100}\n"
     ]
    },
    {
     "name": "stderr",
     "output_type": "stream",
     "text": [
      "c:\\Users\\Republic Of Gamers\\AppData\\Local\\Programs\\Python\\Python39\\lib\\site-packages\\xgboost\\core.py:160: UserWarning: [17:10:48] WARNING: C:\\buildkite-agent\\builds\\buildkite-windows-cpu-autoscaling-group-i-0b3782d1791676daf-1\\xgboost\\xgboost-ci-windows\\src\\learner.cc:742: \n",
      "Parameters: { \"min_samples_split\" } are not used.\n",
      "\n",
      "  warnings.warn(smsg, UserWarning)\n"
     ]
    }
   ],
   "source": [
    "param_grid = {\n",
    "    'n_estimators': [100, 200, 300],\n",
    "    'max_depth': [None, 10, 20, 30],\n",
    "    'min_samples_split': [2, 5, 10]\n",
    "}\n",
    "xgb_model = XGBRegressor()\n",
    "\n",
    "# Set up GridSearchCV\n",
    "grid_search = GridSearchCV(estimator=xgb_model, param_grid=param_grid, cv=3, scoring='neg_mean_squared_error', n_jobs=-1, verbose=2)\n",
    "\n",
    "# Fit to the data\n",
    "grid_search.fit(X_train, y_train)\n",
    "\n",
    "# Best parameters\n",
    "print(\"Best parameters found: \", grid_search.best_params_)"
   ]
  },
  {
   "cell_type": "code",
   "execution_count": 18,
   "metadata": {},
   "outputs": [
    {
     "name": "stdout",
     "output_type": "stream",
     "text": [
      "Predictions: [292.31232 314.08145 290.99435 308.72064 314.971   325.9288  310.72794\n",
      " 291.17084 309.0245  308.02124 313.0258  299.49484 309.73633 290.03476\n",
      " 306.3696  306.29196 332.99887 275.39697]\n"
     ]
    },
    {
     "name": "stderr",
     "output_type": "stream",
     "text": [
      "c:\\Users\\Republic Of Gamers\\AppData\\Local\\Programs\\Python\\Python39\\lib\\site-packages\\xgboost\\core.py:160: UserWarning: [17:10:57] WARNING: C:\\buildkite-agent\\builds\\buildkite-windows-cpu-autoscaling-group-i-0b3782d1791676daf-1\\xgboost\\xgboost-ci-windows\\src\\learner.cc:742: \n",
      "Parameters: { \"min_samples_split\" } are not used.\n",
      "\n",
      "  warnings.warn(smsg, UserWarning)\n"
     ]
    }
   ],
   "source": [
    "# Extract the best parameters from the grid search\n",
    "best_params = grid_search.best_params_\n",
    "\n",
    "# Initialize the XGBRegressor with the best parameters\n",
    "best_xgb = XGBRegressor(**best_params)\n",
    "\n",
    "# Fit the model to the full training data\n",
    "best_xgb.fit(X_train, y_train)\n",
    "\n",
    "# Make predictions on the test set or future data\n",
    "y_pred = best_xgb.predict(X_test)\n",
    "\n",
    "# Display predictions\n",
    "print(\"Predictions:\", y_pred)"
   ]
  },
  {
   "cell_type": "code",
   "execution_count": 19,
   "metadata": {},
   "outputs": [
    {
     "name": "stdout",
     "output_type": "stream",
     "text": [
      "Root Mean Squared Error (RMSE): 50.45518118792676\n",
      "Mean Absolute Error (MAE): 17.723007202148438\n",
      "R-squared (R²): 0.20304960012435913\n"
     ]
    }
   ],
   "source": [
    "# Calculate RMSE\n",
    "rmse = np.sqrt(mean_squared_error(y_test, y_pred))\n",
    "\n",
    "# Calculate MAE\n",
    "mae = mean_absolute_error(y_test, y_pred)\n",
    "\n",
    "# Calculate R-squared\n",
    "r2 = r2_score(y_test, y_pred)\n",
    "\n",
    "# Display the metrics\n",
    "print(\"Root Mean Squared Error (RMSE):\", rmse)\n",
    "print(\"Mean Absolute Error (MAE):\", mae)\n",
    "print(\"R-squared (R²):\", r2)"
   ]
  }
 ],
 "metadata": {
  "kernelspec": {
   "display_name": "Python 3",
   "language": "python",
   "name": "python3"
  },
  "language_info": {
   "codemirror_mode": {
    "name": "ipython",
    "version": 3
   },
   "file_extension": ".py",
   "mimetype": "text/x-python",
   "name": "python",
   "nbconvert_exporter": "python",
   "pygments_lexer": "ipython3",
   "version": "3.9.6"
  }
 },
 "nbformat": 4,
 "nbformat_minor": 2
}
